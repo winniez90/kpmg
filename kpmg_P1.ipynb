{
 "cells": [
  {
   "cell_type": "code",
   "execution_count": 1,
   "id": "869b4fb6-2f57-44f3-be92-f5f1e256930a",
   "metadata": {
    "pycharm": {
     "name": "#%%\n"
    }
   },
   "outputs": [],
   "source": [
    "import pandas as pd"
   ]
  },
  {
   "cell_type": "code",
   "execution_count": 2,
   "id": "eee12806-7722-4152-a09d-c54ba3c03de4",
   "metadata": {
    "tags": [],
    "pycharm": {
     "name": "#%%\n"
    }
   },
   "outputs": [
    {
     "data": {
      "text/plain": "   Unnamed: 0  Unnamed: 1                         Unnamed: 2  Unnamed: 3  \\\n0         NaN         NaN                                NaN         NaN   \n1         NaN         NaN                                NaN         NaN   \n2         NaN         NaN            KPMG Virtual Internship         NaN   \n3         NaN         NaN  Sprocket Central Pty Ltd Data Set         NaN   \n4         NaN         NaN                                NaN         NaN   \n\n   Unnamed: 4 Unnamed: 5  Unnamed: 6  Unnamed: 7 Unnamed: 8  \n0         NaN        NaN         NaN         NaN        NaN  \n1         NaN        NaN         NaN         NaN        NaN  \n2         NaN        NaN         NaN         NaN        NaN  \n3         NaN        NaN         NaN         NaN        NaN  \n4         NaN        NaN         NaN         NaN        NaN  ",
      "text/html": "<div>\n<style scoped>\n    .dataframe tbody tr th:only-of-type {\n        vertical-align: middle;\n    }\n\n    .dataframe tbody tr th {\n        vertical-align: top;\n    }\n\n    .dataframe thead th {\n        text-align: right;\n    }\n</style>\n<table border=\"1\" class=\"dataframe\">\n  <thead>\n    <tr style=\"text-align: right;\">\n      <th></th>\n      <th>Unnamed: 0</th>\n      <th>Unnamed: 1</th>\n      <th>Unnamed: 2</th>\n      <th>Unnamed: 3</th>\n      <th>Unnamed: 4</th>\n      <th>Unnamed: 5</th>\n      <th>Unnamed: 6</th>\n      <th>Unnamed: 7</th>\n      <th>Unnamed: 8</th>\n    </tr>\n  </thead>\n  <tbody>\n    <tr>\n      <th>0</th>\n      <td>NaN</td>\n      <td>NaN</td>\n      <td>NaN</td>\n      <td>NaN</td>\n      <td>NaN</td>\n      <td>NaN</td>\n      <td>NaN</td>\n      <td>NaN</td>\n      <td>NaN</td>\n    </tr>\n    <tr>\n      <th>1</th>\n      <td>NaN</td>\n      <td>NaN</td>\n      <td>NaN</td>\n      <td>NaN</td>\n      <td>NaN</td>\n      <td>NaN</td>\n      <td>NaN</td>\n      <td>NaN</td>\n      <td>NaN</td>\n    </tr>\n    <tr>\n      <th>2</th>\n      <td>NaN</td>\n      <td>NaN</td>\n      <td>KPMG Virtual Internship</td>\n      <td>NaN</td>\n      <td>NaN</td>\n      <td>NaN</td>\n      <td>NaN</td>\n      <td>NaN</td>\n      <td>NaN</td>\n    </tr>\n    <tr>\n      <th>3</th>\n      <td>NaN</td>\n      <td>NaN</td>\n      <td>Sprocket Central Pty Ltd Data Set</td>\n      <td>NaN</td>\n      <td>NaN</td>\n      <td>NaN</td>\n      <td>NaN</td>\n      <td>NaN</td>\n      <td>NaN</td>\n    </tr>\n    <tr>\n      <th>4</th>\n      <td>NaN</td>\n      <td>NaN</td>\n      <td>NaN</td>\n      <td>NaN</td>\n      <td>NaN</td>\n      <td>NaN</td>\n      <td>NaN</td>\n      <td>NaN</td>\n      <td>NaN</td>\n    </tr>\n  </tbody>\n</table>\n</div>"
     },
     "execution_count": 2,
     "metadata": {},
     "output_type": "execute_result"
    }
   ],
   "source": [
    "data = pd.read_excel(\"KPMGfinal.xlsx\")\n",
    "data.head()"
   ]
  },
  {
   "cell_type": "code",
   "execution_count": 3,
   "id": "96c2a08f-dc73-4112-a4a3-7833839860a5",
   "metadata": {
    "collapsed": true,
    "jupyter": {
     "outputs_hidden": true
    },
    "tags": [],
    "pycharm": {
     "name": "#%%\n"
    }
   },
   "outputs": [
    {
     "name": "stderr",
     "output_type": "stream",
     "text": [
      "/var/folders/02/jwkk2z4x0wv1vqp9p47gjgdw0000gn/T/ipykernel_54212/290754456.py:2: FutureWarning: Inferring datetime64[ns] from data containing strings is deprecated and will be removed in a future version. To retain the old behavior explicitly pass Series(data, dtype=datetime64[ns])\n",
      "  new_customer_list = pd.read_excel(\"KPMGfinal.xlsx\", \"NewCustomerList\")\n",
      "/var/folders/02/jwkk2z4x0wv1vqp9p47gjgdw0000gn/T/ipykernel_54212/290754456.py:3: FutureWarning: Inferring datetime64[ns] from data containing strings is deprecated and will be removed in a future version. To retain the old behavior explicitly pass Series(data, dtype=datetime64[ns])\n",
      "  customer_demographic = pd.read_excel(\"KPMGfinal.xlsx\", \"CustomerDemographic\")\n"
     ]
    }
   ],
   "source": [
    "transactions = pd.read_excel(\"KPMGfinal.xlsx\", \"Transactions\")\n",
    "new_customer_list = pd.read_excel(\"KPMGfinal.xlsx\", \"NewCustomerList\")\n",
    "customer_demographic = pd.read_excel(\"KPMGfinal.xlsx\", \"CustomerDemographic\")\n",
    "customer_address = pd.read_excel(\"KPMGfinal.xlsx\", \"CustomerAddress\")"
   ]
  },
  {
   "cell_type": "code",
   "execution_count": 4,
   "id": "5ac2f419-fe88-4fb7-85a0-5ca5f2c48aab",
   "metadata": {
    "tags": [],
    "pycharm": {
     "name": "#%%\n"
    }
   },
   "outputs": [
    {
     "data": {
      "text/plain": "   transaction_id  product_id  customer_id transaction_date  online_order  \\\n0               1           2         2950       2017-02-25           0.0   \n1               2           3         3120       2017-05-21           1.0   \n2               3          37          402       2017-10-16           0.0   \n3               4          88         3135       2017-08-31           0.0   \n4               5          78          787       2017-10-01           1.0   \n\n  order_status           brand product_line product_class product_size  \\\n0     Approved           Solex     Standard        medium       medium   \n1     Approved   Trek Bicycles     Standard        medium        large   \n2     Approved      OHM Cycles     Standard           low       medium   \n3     Approved  Norco Bicycles     Standard        medium       medium   \n4     Approved  Giant Bicycles     Standard        medium        large   \n\n   list_price  standard_cost  product_first_sold_date  \n0       71.49          53.62                  41245.0  \n1     2091.47         388.92                  41701.0  \n2     1793.43         248.82                  36361.0  \n3     1198.46         381.10                  36145.0  \n4     1765.30         709.48                  42226.0  ",
      "text/html": "<div>\n<style scoped>\n    .dataframe tbody tr th:only-of-type {\n        vertical-align: middle;\n    }\n\n    .dataframe tbody tr th {\n        vertical-align: top;\n    }\n\n    .dataframe thead th {\n        text-align: right;\n    }\n</style>\n<table border=\"1\" class=\"dataframe\">\n  <thead>\n    <tr style=\"text-align: right;\">\n      <th></th>\n      <th>transaction_id</th>\n      <th>product_id</th>\n      <th>customer_id</th>\n      <th>transaction_date</th>\n      <th>online_order</th>\n      <th>order_status</th>\n      <th>brand</th>\n      <th>product_line</th>\n      <th>product_class</th>\n      <th>product_size</th>\n      <th>list_price</th>\n      <th>standard_cost</th>\n      <th>product_first_sold_date</th>\n    </tr>\n  </thead>\n  <tbody>\n    <tr>\n      <th>0</th>\n      <td>1</td>\n      <td>2</td>\n      <td>2950</td>\n      <td>2017-02-25</td>\n      <td>0.0</td>\n      <td>Approved</td>\n      <td>Solex</td>\n      <td>Standard</td>\n      <td>medium</td>\n      <td>medium</td>\n      <td>71.49</td>\n      <td>53.62</td>\n      <td>41245.0</td>\n    </tr>\n    <tr>\n      <th>1</th>\n      <td>2</td>\n      <td>3</td>\n      <td>3120</td>\n      <td>2017-05-21</td>\n      <td>1.0</td>\n      <td>Approved</td>\n      <td>Trek Bicycles</td>\n      <td>Standard</td>\n      <td>medium</td>\n      <td>large</td>\n      <td>2091.47</td>\n      <td>388.92</td>\n      <td>41701.0</td>\n    </tr>\n    <tr>\n      <th>2</th>\n      <td>3</td>\n      <td>37</td>\n      <td>402</td>\n      <td>2017-10-16</td>\n      <td>0.0</td>\n      <td>Approved</td>\n      <td>OHM Cycles</td>\n      <td>Standard</td>\n      <td>low</td>\n      <td>medium</td>\n      <td>1793.43</td>\n      <td>248.82</td>\n      <td>36361.0</td>\n    </tr>\n    <tr>\n      <th>3</th>\n      <td>4</td>\n      <td>88</td>\n      <td>3135</td>\n      <td>2017-08-31</td>\n      <td>0.0</td>\n      <td>Approved</td>\n      <td>Norco Bicycles</td>\n      <td>Standard</td>\n      <td>medium</td>\n      <td>medium</td>\n      <td>1198.46</td>\n      <td>381.10</td>\n      <td>36145.0</td>\n    </tr>\n    <tr>\n      <th>4</th>\n      <td>5</td>\n      <td>78</td>\n      <td>787</td>\n      <td>2017-10-01</td>\n      <td>1.0</td>\n      <td>Approved</td>\n      <td>Giant Bicycles</td>\n      <td>Standard</td>\n      <td>medium</td>\n      <td>large</td>\n      <td>1765.30</td>\n      <td>709.48</td>\n      <td>42226.0</td>\n    </tr>\n  </tbody>\n</table>\n</div>"
     },
     "execution_count": 4,
     "metadata": {},
     "output_type": "execute_result"
    }
   ],
   "source": [
    "transactions.head()"
   ]
  },
  {
   "cell_type": "code",
   "execution_count": 5,
   "id": "749557db-2f50-48b6-a451-3e076ee7b293",
   "metadata": {
    "pycharm": {
     "name": "#%%\n"
    }
   },
   "outputs": [
    {
     "name": "stdout",
     "output_type": "stream",
     "text": [
      "<class 'pandas.core.frame.DataFrame'>\n",
      "RangeIndex: 20000 entries, 0 to 19999\n",
      "Data columns (total 13 columns):\n",
      " #   Column                   Non-Null Count  Dtype         \n",
      "---  ------                   --------------  -----         \n",
      " 0   transaction_id           20000 non-null  int64         \n",
      " 1   product_id               20000 non-null  int64         \n",
      " 2   customer_id              20000 non-null  int64         \n",
      " 3   transaction_date         20000 non-null  datetime64[ns]\n",
      " 4   online_order             19640 non-null  float64       \n",
      " 5   order_status             20000 non-null  object        \n",
      " 6   brand                    19803 non-null  object        \n",
      " 7   product_line             19803 non-null  object        \n",
      " 8   product_class            19803 non-null  object        \n",
      " 9   product_size             19803 non-null  object        \n",
      " 10  list_price               20000 non-null  float64       \n",
      " 11  standard_cost            19803 non-null  float64       \n",
      " 12  product_first_sold_date  19803 non-null  float64       \n",
      "dtypes: datetime64[ns](1), float64(4), int64(3), object(5)\n",
      "memory usage: 2.0+ MB\n"
     ]
    }
   ],
   "source": [
    "transactions.info()"
   ]
  },
  {
   "cell_type": "code",
   "execution_count": 6,
   "id": "08473910-6d4d-46e2-b40d-0b857640e0c6",
   "metadata": {
    "pycharm": {
     "name": "#%%\n"
    }
   },
   "outputs": [
    {
     "data": {
      "text/plain": "   transaction_id  product_id  customer_id transaction_date  online_order  \\\n0               1           2         2950       2017-02-25           0.0   \n1               2           3         3120       2017-05-21           1.0   \n2               3          37          402       2017-10-16           0.0   \n3               4          88         3135       2017-08-31           0.0   \n4               5          78          787       2017-10-01           1.0   \n\n  order_status           brand product_line product_class product_size  \\\n0     Approved           Solex     Standard        medium       medium   \n1     Approved   Trek Bicycles     Standard        medium        large   \n2     Approved      OHM Cycles     Standard           low       medium   \n3     Approved  Norco Bicycles     Standard        medium       medium   \n4     Approved  Giant Bicycles     Standard        medium        large   \n\n   list_price  standard_cost  product_first_sold_date  \n0       71.49          53.62                  41245.0  \n1     2091.47         388.92                  41701.0  \n2     1793.43         248.82                  36361.0  \n3     1198.46         381.10                  36145.0  \n4     1765.30         709.48                  42226.0  ",
      "text/html": "<div>\n<style scoped>\n    .dataframe tbody tr th:only-of-type {\n        vertical-align: middle;\n    }\n\n    .dataframe tbody tr th {\n        vertical-align: top;\n    }\n\n    .dataframe thead th {\n        text-align: right;\n    }\n</style>\n<table border=\"1\" class=\"dataframe\">\n  <thead>\n    <tr style=\"text-align: right;\">\n      <th></th>\n      <th>transaction_id</th>\n      <th>product_id</th>\n      <th>customer_id</th>\n      <th>transaction_date</th>\n      <th>online_order</th>\n      <th>order_status</th>\n      <th>brand</th>\n      <th>product_line</th>\n      <th>product_class</th>\n      <th>product_size</th>\n      <th>list_price</th>\n      <th>standard_cost</th>\n      <th>product_first_sold_date</th>\n    </tr>\n  </thead>\n  <tbody>\n    <tr>\n      <th>0</th>\n      <td>1</td>\n      <td>2</td>\n      <td>2950</td>\n      <td>2017-02-25</td>\n      <td>0.0</td>\n      <td>Approved</td>\n      <td>Solex</td>\n      <td>Standard</td>\n      <td>medium</td>\n      <td>medium</td>\n      <td>71.49</td>\n      <td>53.62</td>\n      <td>41245.0</td>\n    </tr>\n    <tr>\n      <th>1</th>\n      <td>2</td>\n      <td>3</td>\n      <td>3120</td>\n      <td>2017-05-21</td>\n      <td>1.0</td>\n      <td>Approved</td>\n      <td>Trek Bicycles</td>\n      <td>Standard</td>\n      <td>medium</td>\n      <td>large</td>\n      <td>2091.47</td>\n      <td>388.92</td>\n      <td>41701.0</td>\n    </tr>\n    <tr>\n      <th>2</th>\n      <td>3</td>\n      <td>37</td>\n      <td>402</td>\n      <td>2017-10-16</td>\n      <td>0.0</td>\n      <td>Approved</td>\n      <td>OHM Cycles</td>\n      <td>Standard</td>\n      <td>low</td>\n      <td>medium</td>\n      <td>1793.43</td>\n      <td>248.82</td>\n      <td>36361.0</td>\n    </tr>\n    <tr>\n      <th>3</th>\n      <td>4</td>\n      <td>88</td>\n      <td>3135</td>\n      <td>2017-08-31</td>\n      <td>0.0</td>\n      <td>Approved</td>\n      <td>Norco Bicycles</td>\n      <td>Standard</td>\n      <td>medium</td>\n      <td>medium</td>\n      <td>1198.46</td>\n      <td>381.10</td>\n      <td>36145.0</td>\n    </tr>\n    <tr>\n      <th>4</th>\n      <td>5</td>\n      <td>78</td>\n      <td>787</td>\n      <td>2017-10-01</td>\n      <td>1.0</td>\n      <td>Approved</td>\n      <td>Giant Bicycles</td>\n      <td>Standard</td>\n      <td>medium</td>\n      <td>large</td>\n      <td>1765.30</td>\n      <td>709.48</td>\n      <td>42226.0</td>\n    </tr>\n  </tbody>\n</table>\n</div>"
     },
     "execution_count": 6,
     "metadata": {},
     "output_type": "execute_result"
    }
   ],
   "source": [
    "transactions = transactions.iloc[:, 0:13]\n",
    "transactions.head()"
   ]
  },
  {
   "cell_type": "code",
   "execution_count": 7,
   "id": "c6e9a99d-ec83-4c35-85c8-0c85b4ee597d",
   "metadata": {
    "pycharm": {
     "name": "#%%\n"
    }
   },
   "outputs": [
    {
     "name": "stdout",
     "output_type": "stream",
     "text": [
      "<class 'pandas.core.frame.DataFrame'>\n",
      "RangeIndex: 20000 entries, 0 to 19999\n",
      "Data columns (total 13 columns):\n",
      " #   Column                   Non-Null Count  Dtype         \n",
      "---  ------                   --------------  -----         \n",
      " 0   transaction_id           20000 non-null  int64         \n",
      " 1   product_id               20000 non-null  int64         \n",
      " 2   customer_id              20000 non-null  int64         \n",
      " 3   transaction_date         20000 non-null  datetime64[ns]\n",
      " 4   online_order             19640 non-null  float64       \n",
      " 5   order_status             20000 non-null  object        \n",
      " 6   brand                    19803 non-null  object        \n",
      " 7   product_line             19803 non-null  object        \n",
      " 8   product_class            19803 non-null  object        \n",
      " 9   product_size             19803 non-null  object        \n",
      " 10  list_price               20000 non-null  float64       \n",
      " 11  standard_cost            19803 non-null  float64       \n",
      " 12  product_first_sold_date  19803 non-null  float64       \n",
      "dtypes: datetime64[ns](1), float64(4), int64(3), object(5)\n",
      "memory usage: 2.0+ MB\n"
     ]
    }
   ],
   "source": [
    "transactions.info()"
   ]
  },
  {
   "cell_type": "code",
   "execution_count": 8,
   "id": "4a4a208e-1063-4937-b307-c94cad63b77b",
   "metadata": {
    "pycharm": {
     "name": "#%%\n"
    }
   },
   "outputs": [
    {
     "data": {
      "text/plain": "(20000, 13)"
     },
     "execution_count": 8,
     "metadata": {},
     "output_type": "execute_result"
    }
   ],
   "source": [
    "transactions.shape"
   ]
  },
  {
   "cell_type": "code",
   "execution_count": 9,
   "id": "1418952f-89f1-4984-9584-22918ed312ea",
   "metadata": {
    "pycharm": {
     "name": "#%%\n"
    }
   },
   "outputs": [
    {
     "data": {
      "text/plain": "transaction_id               0\nproduct_id                   0\ncustomer_id                  0\ntransaction_date             0\nonline_order               360\norder_status                 0\nbrand                      197\nproduct_line               197\nproduct_class              197\nproduct_size               197\nlist_price                   0\nstandard_cost              197\nproduct_first_sold_date    197\ndtype: int64"
     },
     "execution_count": 9,
     "metadata": {},
     "output_type": "execute_result"
    }
   ],
   "source": [
    "transactions.isnull().sum()"
   ]
  },
  {
   "cell_type": "code",
   "execution_count": 10,
   "id": "06c8bf3a-1e33-4301-a120-2bd283459540",
   "metadata": {
    "pycharm": {
     "name": "#%%\n"
    }
   },
   "outputs": [
    {
     "data": {
      "text/plain": "0"
     },
     "execution_count": 10,
     "metadata": {},
     "output_type": "execute_result"
    }
   ],
   "source": [
    "transactions.duplicated().sum()"
   ]
  },
  {
   "cell_type": "code",
   "execution_count": 11,
   "id": "78088fee-cf14-4aef-ad3b-58157eb9c56e",
   "metadata": {
    "pycharm": {
     "name": "#%%\n"
    }
   },
   "outputs": [
    {
     "data": {
      "text/plain": "transaction_id             20000\nproduct_id                   101\ncustomer_id                 3494\ntransaction_date             364\nonline_order                   2\norder_status                   2\nbrand                          6\nproduct_line                   4\nproduct_class                  3\nproduct_size                   3\nlist_price                   296\nstandard_cost                103\nproduct_first_sold_date      100\ndtype: int64"
     },
     "execution_count": 11,
     "metadata": {},
     "output_type": "execute_result"
    }
   ],
   "source": [
    "transactions.nunique()"
   ]
  },
  {
   "cell_type": "code",
   "execution_count": 12,
   "id": "0a829f41-dafa-4578-bb56-044cb1e2be8a",
   "metadata": {
    "pycharm": {
     "name": "#%%\n"
    }
   },
   "outputs": [
    {
     "data": {
      "text/plain": "Index(['transaction_id', 'product_id', 'customer_id', 'transaction_date',\n       'online_order', 'order_status', 'brand', 'product_line',\n       'product_class', 'product_size', 'list_price', 'standard_cost',\n       'product_first_sold_date'],\n      dtype='object')"
     },
     "execution_count": 12,
     "metadata": {},
     "output_type": "execute_result"
    }
   ],
   "source": [
    "transactions.columns"
   ]
  },
  {
   "cell_type": "code",
   "execution_count": 13,
   "id": "1cabc916-a9a8-4f05-b780-16b6f6c753d5",
   "metadata": {
    "pycharm": {
     "name": "#%%\n"
    }
   },
   "outputs": [
    {
     "data": {
      "text/plain": "Approved     19821\nCancelled      179\nName: order_status, dtype: int64"
     },
     "execution_count": 13,
     "metadata": {},
     "output_type": "execute_result"
    }
   ],
   "source": [
    "transactions[\"order_status\"].value_counts()"
   ]
  },
  {
   "cell_type": "code",
   "execution_count": 14,
   "id": "40d93f52-7729-468b-817f-333387eaef4f",
   "metadata": {
    "pycharm": {
     "name": "#%%\n"
    }
   },
   "outputs": [
    {
     "data": {
      "text/plain": "Solex             4253\nGiant Bicycles    3312\nWeareA2B          3295\nOHM Cycles        3043\nTrek Bicycles     2990\nNorco Bicycles    2910\nName: brand, dtype: int64"
     },
     "execution_count": 14,
     "metadata": {},
     "output_type": "execute_result"
    }
   ],
   "source": [
    "transactions[\"brand\"].value_counts()"
   ]
  },
  {
   "cell_type": "code",
   "execution_count": 15,
   "id": "3ee6c576-793d-4339-87fe-51321cb33826",
   "metadata": {
    "pycharm": {
     "name": "#%%\n"
    }
   },
   "outputs": [
    {
     "data": {
      "text/plain": "Standard    14176\nRoad         3970\nTouring      1234\nMountain      423\nName: product_line, dtype: int64"
     },
     "execution_count": 15,
     "metadata": {},
     "output_type": "execute_result"
    }
   ],
   "source": [
    "transactions[\"product_line\"].value_counts()"
   ]
  },
  {
   "cell_type": "code",
   "execution_count": 16,
   "id": "1062f3aa-cb47-4c61-b886-31436aa98a61",
   "metadata": {
    "pycharm": {
     "name": "#%%\n"
    }
   },
   "outputs": [
    {
     "data": {
      "text/plain": "medium    13826\nhigh       3013\nlow        2964\nName: product_class, dtype: int64"
     },
     "execution_count": 16,
     "metadata": {},
     "output_type": "execute_result"
    }
   ],
   "source": [
    "transactions[\"product_class\"].value_counts()"
   ]
  },
  {
   "cell_type": "code",
   "execution_count": 17,
   "id": "83e3a507-a308-4461-8f37-9ca29c62e8cf",
   "metadata": {
    "pycharm": {
     "name": "#%%\n"
    }
   },
   "outputs": [
    {
     "data": {
      "text/plain": "medium    12990\nlarge      3976\nsmall      2837\nName: product_size, dtype: int64"
     },
     "execution_count": 17,
     "metadata": {},
     "output_type": "execute_result"
    }
   ],
   "source": [
    "transactions[\"product_size\"].value_counts()"
   ]
  },
  {
   "cell_type": "code",
   "execution_count": 18,
   "id": "df8fa90c-d2d5-4dd5-ba9a-0e4436bed47b",
   "metadata": {
    "pycharm": {
     "name": "#%%\n"
    }
   },
   "outputs": [
    {
     "data": {
      "text/plain": "33879.0    234\n41064.0    229\n37823.0    227\n39880.0    222\n38216.0    220\n          ... \n41848.0    169\n42404.0    168\n41922.0    166\n37659.0    163\n34586.0    162\nName: product_first_sold_date, Length: 100, dtype: int64"
     },
     "execution_count": 18,
     "metadata": {},
     "output_type": "execute_result"
    }
   ],
   "source": [
    "transactions[\"product_first_sold_date\"].value_counts()"
   ]
  },
  {
   "cell_type": "code",
   "execution_count": 19,
   "id": "eaee1a0e-d7dd-4bcd-b23b-6ede351260e6",
   "metadata": {
    "pycharm": {
     "name": "#%%\n"
    }
   },
   "outputs": [
    {
     "data": {
      "text/plain": "0    1970-01-01 11:27:25\n1    1970-01-01 11:35:01\n2    1970-01-01 10:06:01\n3    1970-01-01 10:02:25\n4    1970-01-01 11:43:46\n5    1970-01-01 10:50:31\n6    1970-01-01 09:29:25\n7    1970-01-01 11:05:15\n8    1970-01-01 09:17:35\n9    1970-01-01 10:36:56\n10   1970-01-01 11:19:44\n11   1970-01-01 11:42:52\n12   1970-01-01 09:35:27\n13   1970-01-01 09:36:26\n14   1970-01-01 10:36:33\n15   1970-01-01 10:31:13\n16   1970-01-01 10:36:46\n17   1970-01-01 09:24:48\n18   1970-01-01 11:05:15\n19   1970-01-01 10:22:17\nName: product_first_sold_date, dtype: datetime64[ns]"
     },
     "execution_count": 19,
     "metadata": {},
     "output_type": "execute_result"
    }
   ],
   "source": [
    "transactions[\"product_first_sold_date\"] = pd.to_datetime(transactions[\"product_first_sold_date\"], unit = \"s\")\n",
    "transactions[\"product_first_sold_date\"].head(20)"
   ]
  },
  {
   "cell_type": "code",
   "execution_count": 20,
   "id": "61fc503b-a900-4f01-9636-b61c9e00298a",
   "metadata": {
    "pycharm": {
     "name": "#%%\n"
    }
   },
   "outputs": [
    {
     "data": {
      "text/plain": "  first_name  last_name  gender  past_3_years_bike_related_purchases  \\\n0    Chickie    Brister    Male                                   86   \n1      Morly     Genery    Male                                   69   \n2    Ardelis  Forrester  Female                                   10   \n3     Lucine      Stutt  Female                                   64   \n4    Melinda     Hadlee  Female                                   34   \n\n         DOB                   job_title job_industry_category  \\\n0 1957-07-12             General Manager         Manufacturing   \n1 1970-03-22         Structural Engineer              Property   \n2 1974-08-28      Senior Cost Accountant    Financial Services   \n3 1979-01-28  Account Representative III         Manufacturing   \n4 1965-09-21           Financial Analyst    Financial Services   \n\n      wealth_segment deceased_indicator owns_car  ...  state    country  \\\n0      Mass Customer                  N      Yes  ...    QLD  Australia   \n1      Mass Customer                  N       No  ...    NSW  Australia   \n2  Affluent Customer                  N       No  ...    VIC  Australia   \n3  Affluent Customer                  N      Yes  ...    QLD  Australia   \n4  Affluent Customer                  N       No  ...    NSW  Australia   \n\n   property_valuation Unnamed: 16 Unnamed: 17  Unnamed: 18  Unnamed: 19  \\\n0                   6        0.78       0.975      1.21875     1.035937   \n1                  11        0.78       0.780      0.97500     0.828750   \n2                   5        0.91       0.910      0.91000     0.910000   \n3                   1        0.50       0.625      0.62500     0.625000   \n4                   9        0.60       0.600      0.75000     0.750000   \n\n   Unnamed: 20  Rank     Value  \n0            1     1  1.718750  \n1            1     1  1.718750  \n2            1     1  1.718750  \n3            4     4  1.703125  \n4            4     4  1.703125  \n\n[5 rows x 23 columns]",
      "text/html": "<div>\n<style scoped>\n    .dataframe tbody tr th:only-of-type {\n        vertical-align: middle;\n    }\n\n    .dataframe tbody tr th {\n        vertical-align: top;\n    }\n\n    .dataframe thead th {\n        text-align: right;\n    }\n</style>\n<table border=\"1\" class=\"dataframe\">\n  <thead>\n    <tr style=\"text-align: right;\">\n      <th></th>\n      <th>first_name</th>\n      <th>last_name</th>\n      <th>gender</th>\n      <th>past_3_years_bike_related_purchases</th>\n      <th>DOB</th>\n      <th>job_title</th>\n      <th>job_industry_category</th>\n      <th>wealth_segment</th>\n      <th>deceased_indicator</th>\n      <th>owns_car</th>\n      <th>...</th>\n      <th>state</th>\n      <th>country</th>\n      <th>property_valuation</th>\n      <th>Unnamed: 16</th>\n      <th>Unnamed: 17</th>\n      <th>Unnamed: 18</th>\n      <th>Unnamed: 19</th>\n      <th>Unnamed: 20</th>\n      <th>Rank</th>\n      <th>Value</th>\n    </tr>\n  </thead>\n  <tbody>\n    <tr>\n      <th>0</th>\n      <td>Chickie</td>\n      <td>Brister</td>\n      <td>Male</td>\n      <td>86</td>\n      <td>1957-07-12</td>\n      <td>General Manager</td>\n      <td>Manufacturing</td>\n      <td>Mass Customer</td>\n      <td>N</td>\n      <td>Yes</td>\n      <td>...</td>\n      <td>QLD</td>\n      <td>Australia</td>\n      <td>6</td>\n      <td>0.78</td>\n      <td>0.975</td>\n      <td>1.21875</td>\n      <td>1.035937</td>\n      <td>1</td>\n      <td>1</td>\n      <td>1.718750</td>\n    </tr>\n    <tr>\n      <th>1</th>\n      <td>Morly</td>\n      <td>Genery</td>\n      <td>Male</td>\n      <td>69</td>\n      <td>1970-03-22</td>\n      <td>Structural Engineer</td>\n      <td>Property</td>\n      <td>Mass Customer</td>\n      <td>N</td>\n      <td>No</td>\n      <td>...</td>\n      <td>NSW</td>\n      <td>Australia</td>\n      <td>11</td>\n      <td>0.78</td>\n      <td>0.780</td>\n      <td>0.97500</td>\n      <td>0.828750</td>\n      <td>1</td>\n      <td>1</td>\n      <td>1.718750</td>\n    </tr>\n    <tr>\n      <th>2</th>\n      <td>Ardelis</td>\n      <td>Forrester</td>\n      <td>Female</td>\n      <td>10</td>\n      <td>1974-08-28</td>\n      <td>Senior Cost Accountant</td>\n      <td>Financial Services</td>\n      <td>Affluent Customer</td>\n      <td>N</td>\n      <td>No</td>\n      <td>...</td>\n      <td>VIC</td>\n      <td>Australia</td>\n      <td>5</td>\n      <td>0.91</td>\n      <td>0.910</td>\n      <td>0.91000</td>\n      <td>0.910000</td>\n      <td>1</td>\n      <td>1</td>\n      <td>1.718750</td>\n    </tr>\n    <tr>\n      <th>3</th>\n      <td>Lucine</td>\n      <td>Stutt</td>\n      <td>Female</td>\n      <td>64</td>\n      <td>1979-01-28</td>\n      <td>Account Representative III</td>\n      <td>Manufacturing</td>\n      <td>Affluent Customer</td>\n      <td>N</td>\n      <td>Yes</td>\n      <td>...</td>\n      <td>QLD</td>\n      <td>Australia</td>\n      <td>1</td>\n      <td>0.50</td>\n      <td>0.625</td>\n      <td>0.62500</td>\n      <td>0.625000</td>\n      <td>4</td>\n      <td>4</td>\n      <td>1.703125</td>\n    </tr>\n    <tr>\n      <th>4</th>\n      <td>Melinda</td>\n      <td>Hadlee</td>\n      <td>Female</td>\n      <td>34</td>\n      <td>1965-09-21</td>\n      <td>Financial Analyst</td>\n      <td>Financial Services</td>\n      <td>Affluent Customer</td>\n      <td>N</td>\n      <td>No</td>\n      <td>...</td>\n      <td>NSW</td>\n      <td>Australia</td>\n      <td>9</td>\n      <td>0.60</td>\n      <td>0.600</td>\n      <td>0.75000</td>\n      <td>0.750000</td>\n      <td>4</td>\n      <td>4</td>\n      <td>1.703125</td>\n    </tr>\n  </tbody>\n</table>\n<p>5 rows × 23 columns</p>\n</div>"
     },
     "execution_count": 20,
     "metadata": {},
     "output_type": "execute_result"
    }
   ],
   "source": [
    "new_customer_list.head()"
   ]
  },
  {
   "cell_type": "code",
   "execution_count": 21,
   "id": "45b1cd29-07fd-4a4c-b203-f3f8077a914c",
   "metadata": {
    "pycharm": {
     "name": "#%%\n"
    }
   },
   "outputs": [
    {
     "name": "stdout",
     "output_type": "stream",
     "text": [
      "<class 'pandas.core.frame.DataFrame'>\n",
      "RangeIndex: 1000 entries, 0 to 999\n",
      "Data columns (total 23 columns):\n",
      " #   Column                               Non-Null Count  Dtype         \n",
      "---  ------                               --------------  -----         \n",
      " 0   first_name                           1000 non-null   object        \n",
      " 1   last_name                            971 non-null    object        \n",
      " 2   gender                               1000 non-null   object        \n",
      " 3   past_3_years_bike_related_purchases  1000 non-null   int64         \n",
      " 4   DOB                                  983 non-null    datetime64[ns]\n",
      " 5   job_title                            894 non-null    object        \n",
      " 6   job_industry_category                835 non-null    object        \n",
      " 7   wealth_segment                       1000 non-null   object        \n",
      " 8   deceased_indicator                   1000 non-null   object        \n",
      " 9   owns_car                             1000 non-null   object        \n",
      " 10  tenure                               1000 non-null   int64         \n",
      " 11  address                              1000 non-null   object        \n",
      " 12  postcode                             1000 non-null   int64         \n",
      " 13  state                                1000 non-null   object        \n",
      " 14  country                              1000 non-null   object        \n",
      " 15  property_valuation                   1000 non-null   int64         \n",
      " 16  Unnamed: 16                          1000 non-null   float64       \n",
      " 17  Unnamed: 17                          1000 non-null   float64       \n",
      " 18  Unnamed: 18                          1000 non-null   float64       \n",
      " 19  Unnamed: 19                          1000 non-null   float64       \n",
      " 20  Unnamed: 20                          1000 non-null   int64         \n",
      " 21  Rank                                 1000 non-null   int64         \n",
      " 22  Value                                1000 non-null   float64       \n",
      "dtypes: datetime64[ns](1), float64(5), int64(6), object(11)\n",
      "memory usage: 179.8+ KB\n"
     ]
    }
   ],
   "source": [
    "new_customer_list.info()"
   ]
  },
  {
   "cell_type": "code",
   "execution_count": 22,
   "id": "575492bd-3988-4c51-9f3a-0a1d4c638afe",
   "metadata": {
    "pycharm": {
     "name": "#%%\n"
    }
   },
   "outputs": [
    {
     "data": {
      "text/plain": "  first_name  last_name  gender  past_3_years_bike_related_purchases  \\\n0    Chickie    Brister    Male                                   86   \n1      Morly     Genery    Male                                   69   \n2    Ardelis  Forrester  Female                                   10   \n3     Lucine      Stutt  Female                                   64   \n4    Melinda     Hadlee  Female                                   34   \n\n         DOB                   job_title job_industry_category  \\\n0 1957-07-12             General Manager         Manufacturing   \n1 1970-03-22         Structural Engineer              Property   \n2 1974-08-28      Senior Cost Accountant    Financial Services   \n3 1979-01-28  Account Representative III         Manufacturing   \n4 1965-09-21           Financial Analyst    Financial Services   \n\n      wealth_segment deceased_indicator owns_car  ...  state    country  \\\n0      Mass Customer                  N      Yes  ...    QLD  Australia   \n1      Mass Customer                  N       No  ...    NSW  Australia   \n2  Affluent Customer                  N       No  ...    VIC  Australia   \n3  Affluent Customer                  N      Yes  ...    QLD  Australia   \n4  Affluent Customer                  N       No  ...    NSW  Australia   \n\n   property_valuation Unnamed: 16 Unnamed: 17  Unnamed: 18  Unnamed: 19  \\\n0                   6        0.78       0.975      1.21875     1.035937   \n1                  11        0.78       0.780      0.97500     0.828750   \n2                   5        0.91       0.910      0.91000     0.910000   \n3                   1        0.50       0.625      0.62500     0.625000   \n4                   9        0.60       0.600      0.75000     0.750000   \n\n   Unnamed: 20  Rank     Value  \n0            1     1  1.718750  \n1            1     1  1.718750  \n2            1     1  1.718750  \n3            4     4  1.703125  \n4            4     4  1.703125  \n\n[5 rows x 23 columns]",
      "text/html": "<div>\n<style scoped>\n    .dataframe tbody tr th:only-of-type {\n        vertical-align: middle;\n    }\n\n    .dataframe tbody tr th {\n        vertical-align: top;\n    }\n\n    .dataframe thead th {\n        text-align: right;\n    }\n</style>\n<table border=\"1\" class=\"dataframe\">\n  <thead>\n    <tr style=\"text-align: right;\">\n      <th></th>\n      <th>first_name</th>\n      <th>last_name</th>\n      <th>gender</th>\n      <th>past_3_years_bike_related_purchases</th>\n      <th>DOB</th>\n      <th>job_title</th>\n      <th>job_industry_category</th>\n      <th>wealth_segment</th>\n      <th>deceased_indicator</th>\n      <th>owns_car</th>\n      <th>...</th>\n      <th>state</th>\n      <th>country</th>\n      <th>property_valuation</th>\n      <th>Unnamed: 16</th>\n      <th>Unnamed: 17</th>\n      <th>Unnamed: 18</th>\n      <th>Unnamed: 19</th>\n      <th>Unnamed: 20</th>\n      <th>Rank</th>\n      <th>Value</th>\n    </tr>\n  </thead>\n  <tbody>\n    <tr>\n      <th>0</th>\n      <td>Chickie</td>\n      <td>Brister</td>\n      <td>Male</td>\n      <td>86</td>\n      <td>1957-07-12</td>\n      <td>General Manager</td>\n      <td>Manufacturing</td>\n      <td>Mass Customer</td>\n      <td>N</td>\n      <td>Yes</td>\n      <td>...</td>\n      <td>QLD</td>\n      <td>Australia</td>\n      <td>6</td>\n      <td>0.78</td>\n      <td>0.975</td>\n      <td>1.21875</td>\n      <td>1.035937</td>\n      <td>1</td>\n      <td>1</td>\n      <td>1.718750</td>\n    </tr>\n    <tr>\n      <th>1</th>\n      <td>Morly</td>\n      <td>Genery</td>\n      <td>Male</td>\n      <td>69</td>\n      <td>1970-03-22</td>\n      <td>Structural Engineer</td>\n      <td>Property</td>\n      <td>Mass Customer</td>\n      <td>N</td>\n      <td>No</td>\n      <td>...</td>\n      <td>NSW</td>\n      <td>Australia</td>\n      <td>11</td>\n      <td>0.78</td>\n      <td>0.780</td>\n      <td>0.97500</td>\n      <td>0.828750</td>\n      <td>1</td>\n      <td>1</td>\n      <td>1.718750</td>\n    </tr>\n    <tr>\n      <th>2</th>\n      <td>Ardelis</td>\n      <td>Forrester</td>\n      <td>Female</td>\n      <td>10</td>\n      <td>1974-08-28</td>\n      <td>Senior Cost Accountant</td>\n      <td>Financial Services</td>\n      <td>Affluent Customer</td>\n      <td>N</td>\n      <td>No</td>\n      <td>...</td>\n      <td>VIC</td>\n      <td>Australia</td>\n      <td>5</td>\n      <td>0.91</td>\n      <td>0.910</td>\n      <td>0.91000</td>\n      <td>0.910000</td>\n      <td>1</td>\n      <td>1</td>\n      <td>1.718750</td>\n    </tr>\n    <tr>\n      <th>3</th>\n      <td>Lucine</td>\n      <td>Stutt</td>\n      <td>Female</td>\n      <td>64</td>\n      <td>1979-01-28</td>\n      <td>Account Representative III</td>\n      <td>Manufacturing</td>\n      <td>Affluent Customer</td>\n      <td>N</td>\n      <td>Yes</td>\n      <td>...</td>\n      <td>QLD</td>\n      <td>Australia</td>\n      <td>1</td>\n      <td>0.50</td>\n      <td>0.625</td>\n      <td>0.62500</td>\n      <td>0.625000</td>\n      <td>4</td>\n      <td>4</td>\n      <td>1.703125</td>\n    </tr>\n    <tr>\n      <th>4</th>\n      <td>Melinda</td>\n      <td>Hadlee</td>\n      <td>Female</td>\n      <td>34</td>\n      <td>1965-09-21</td>\n      <td>Financial Analyst</td>\n      <td>Financial Services</td>\n      <td>Affluent Customer</td>\n      <td>N</td>\n      <td>No</td>\n      <td>...</td>\n      <td>NSW</td>\n      <td>Australia</td>\n      <td>9</td>\n      <td>0.60</td>\n      <td>0.600</td>\n      <td>0.75000</td>\n      <td>0.750000</td>\n      <td>4</td>\n      <td>4</td>\n      <td>1.703125</td>\n    </tr>\n  </tbody>\n</table>\n<p>5 rows × 23 columns</p>\n</div>"
     },
     "execution_count": 22,
     "metadata": {},
     "output_type": "execute_result"
    }
   ],
   "source": [
    "new_customer_list.head()"
   ]
  },
  {
   "cell_type": "code",
   "execution_count": 23,
   "id": "b1109baa-a158-4f89-875c-5fb9dcb6f398",
   "metadata": {
    "pycharm": {
     "name": "#%%\n"
    }
   },
   "outputs": [
    {
     "data": {
      "text/plain": "(1000, 23)"
     },
     "execution_count": 23,
     "metadata": {},
     "output_type": "execute_result"
    }
   ],
   "source": [
    "new_customer_list.shape"
   ]
  },
  {
   "cell_type": "code",
   "execution_count": 24,
   "id": "429a812b-5958-48c5-b156-dda4c8b9e2ff",
   "metadata": {
    "pycharm": {
     "name": "#%%\n"
    }
   },
   "outputs": [
    {
     "data": {
      "text/plain": "first_name                               0\nlast_name                               29\ngender                                   0\npast_3_years_bike_related_purchases      0\nDOB                                     17\njob_title                              106\njob_industry_category                  165\nwealth_segment                           0\ndeceased_indicator                       0\nowns_car                                 0\ntenure                                   0\naddress                                  0\npostcode                                 0\nstate                                    0\ncountry                                  0\nproperty_valuation                       0\nUnnamed: 16                              0\nUnnamed: 17                              0\nUnnamed: 18                              0\nUnnamed: 19                              0\nUnnamed: 20                              0\nRank                                     0\nValue                                    0\ndtype: int64"
     },
     "execution_count": 24,
     "metadata": {},
     "output_type": "execute_result"
    }
   ],
   "source": [
    "new_customer_list.isnull().sum()"
   ]
  },
  {
   "cell_type": "code",
   "execution_count": 25,
   "id": "3a8cf538-3cfd-482b-9a3d-9d8be9633a17",
   "metadata": {
    "pycharm": {
     "name": "#%%\n"
    }
   },
   "outputs": [
    {
     "data": {
      "text/plain": "0"
     },
     "execution_count": 25,
     "metadata": {},
     "output_type": "execute_result"
    }
   ],
   "source": [
    "new_customer_list.duplicated().sum()"
   ]
  },
  {
   "cell_type": "code",
   "execution_count": 26,
   "id": "e85eac95-26c7-4b79-a8b0-f4b13c6a792a",
   "metadata": {
    "pycharm": {
     "name": "#%%\n"
    }
   },
   "outputs": [
    {
     "data": {
      "text/plain": "first_name                              940\nlast_name                               961\ngender                                    3\npast_3_years_bike_related_purchases     100\nDOB                                     958\njob_title                               184\njob_industry_category                     9\nwealth_segment                            3\ndeceased_indicator                        1\nowns_car                                  2\ntenure                                   23\naddress                                1000\npostcode                                522\nstate                                     3\ncountry                                   1\nproperty_valuation                       12\nUnnamed: 16                              71\nUnnamed: 17                             132\nUnnamed: 18                             185\nUnnamed: 19                             330\nUnnamed: 20                             324\nRank                                    324\nValue                                   324\ndtype: int64"
     },
     "execution_count": 26,
     "metadata": {},
     "output_type": "execute_result"
    }
   ],
   "source": [
    "new_customer_list.nunique()"
   ]
  },
  {
   "cell_type": "code",
   "execution_count": 27,
   "id": "4deb1bb9-31e6-4383-a1bd-afc66d52e57e",
   "metadata": {
    "pycharm": {
     "name": "#%%\n"
    }
   },
   "outputs": [
    {
     "data": {
      "text/plain": "Index(['first_name', 'last_name', 'gender',\n       'past_3_years_bike_related_purchases', 'DOB', 'job_title',\n       'job_industry_category', 'wealth_segment', 'deceased_indicator',\n       'owns_car', 'tenure', 'address', 'postcode', 'state', 'country',\n       'property_valuation', 'Unnamed: 16', 'Unnamed: 17', 'Unnamed: 18',\n       'Unnamed: 19', 'Unnamed: 20', 'Rank', 'Value'],\n      dtype='object')"
     },
     "execution_count": 27,
     "metadata": {},
     "output_type": "execute_result"
    }
   ],
   "source": [
    "new_customer_list.columns"
   ]
  },
  {
   "cell_type": "code",
   "execution_count": 28,
   "id": "176e97e2-6884-4253-b50a-b991a350a546",
   "metadata": {
    "pycharm": {
     "name": "#%%\n"
    }
   },
   "outputs": [
    {
     "data": {
      "text/plain": "Female    513\nMale      470\nU          17\nName: gender, dtype: int64"
     },
     "execution_count": 28,
     "metadata": {},
     "output_type": "execute_result"
    }
   ],
   "source": [
    "new_customer_list[\"gender\"].value_counts()"
   ]
  },
  {
   "cell_type": "code",
   "execution_count": 29,
   "id": "0d9f4c3d-fc31-41b7-afa6-a191c4d07c49",
   "metadata": {
    "pycharm": {
     "name": "#%%\n"
    }
   },
   "outputs": [
    {
     "data": {
      "text/plain": "    first_name    last_name gender  past_3_years_bike_related_purchases DOB  \\\n59       Normy     Goodinge      U                                    5 NaT   \n226      Hatti     Carletti      U                                   35 NaT   \n324   Rozamond       Turtle      U                                   69 NaT   \n358      Tamas      Swatman      U                                   65 NaT   \n360      Tracy   Andrejevic      U                                   71 NaT   \n374     Agneta      McAmish      U                                   66 NaT   \n434      Gregg      Aimeric      U                                   52 NaT   \n439      Johna       Bunker      U                                   93 NaT   \n574    Harlene         Nono      U                                   69 NaT   \n598   Gerianne       Kaysor      U                                   15 NaT   \n664     Chicky      Sinclar      U                                   43 NaT   \n751    Adriana  Saundercock      U                                   20 NaT   \n775     Dmitri        Viant      U                                   62 NaT   \n835      Porty       Hansed      U                                   88 NaT   \n883      Shara     Bramhill      U                                   24 NaT   \n904       Roth         Crum      U                                    0 NaT   \n984    Pauline     Dallosso      U                                   82 NaT   \n\n                        job_title job_industry_category     wealth_segment  \\\n59            Associate Professor                    IT      Mass Customer   \n226               Legal Assistant                    IT  Affluent Customer   \n324               Legal Assistant                    IT      Mass Customer   \n358       Assistant Media Planner         Entertainment  Affluent Customer   \n360                 Programmer II                    IT      Mass Customer   \n374  Structural Analysis Engineer                    IT      Mass Customer   \n434              Internal Auditor                    IT      Mass Customer   \n439                Tax Accountant                    IT      Mass Customer   \n574       Human Resources Manager                    IT      Mass Customer   \n598               Project Manager                    IT  Affluent Customer   \n664                      Operator                    IT     High Net Worth   \n751                         Nurse                    IT     High Net Worth   \n775                     Paralegal    Financial Services  Affluent Customer   \n835               General Manager                    IT      Mass Customer   \n883                           NaN                    IT  Affluent Customer   \n904               Legal Assistant                    IT      Mass Customer   \n984    Desktop Support Technician                    IT  Affluent Customer   \n\n    deceased_indicator owns_car  ...  state    country  property_valuation  \\\n59                   N       No  ...    VIC  Australia                   5   \n226                  N      Yes  ...    NSW  Australia                   9   \n324                  N      Yes  ...    VIC  Australia                   3   \n358                  N       No  ...    QLD  Australia                   8   \n360                  N      Yes  ...    VIC  Australia                   7   \n374                  N       No  ...    QLD  Australia                   6   \n434                  N       No  ...    VIC  Australia                   5   \n439                  N      Yes  ...    VIC  Australia                   6   \n574                  N       No  ...    NSW  Australia                   7   \n598                  N       No  ...    NSW  Australia                  11   \n664                  N      Yes  ...    VIC  Australia                   4   \n751                  N      Yes  ...    VIC  Australia                   7   \n775                  N       No  ...    VIC  Australia                   1   \n835                  N       No  ...    NSW  Australia                  11   \n883                  N       No  ...    NSW  Australia                  10   \n904                  N       No  ...    NSW  Australia                   6   \n984                  N      Yes  ...    NSW  Australia                  10   \n\n    Unnamed: 16 Unnamed: 17  Unnamed: 18  Unnamed: 19  Unnamed: 20  Rank  \\\n59         0.71      0.7100     0.710000     0.603500           57    57   \n226        0.91      1.1375     1.421875     1.421875          226   226   \n324        0.92      1.1500     1.150000     0.977500          324   324   \n358        0.90      0.9000     0.900000     0.900000          358   358   \n360        0.74      0.9250     0.925000     0.786250          361   361   \n374        0.95      0.9500     0.950000     0.807500          375   375   \n434        0.50      0.5000     0.500000     0.425000          433   433   \n439        0.85      1.0625     1.328125     1.128906          436   436   \n574        1.10      1.1000     1.100000     0.935000          575   575   \n598        0.41      0.4100     0.512500     0.512500          599   599   \n664        0.83      1.0375     1.037500     1.037500          662   662   \n751        0.52      0.6500     0.650000     0.650000          751   751   \n775        0.67      0.6700     0.670000     0.670000          774   774   \n835        0.44      0.4400     0.550000     0.467500          832   832   \n883        0.62      0.6200     0.775000     0.775000          883   883   \n904        0.61      0.6100     0.610000     0.518500          904   904   \n984        1.10      1.3750     1.718750     1.718750          985   985   \n\n        Value  \n59   1.375000  \n226  1.112500  \n324  1.010000  \n358  0.980000  \n360  0.977500  \n374  0.960000  \n434  0.906250  \n439  0.903125  \n574  0.796875  \n598  0.775000  \n664  0.711875  \n751  0.648125  \n775  0.626875  \n835  0.575000  \n883  0.531250  \n904  0.500000  \n984  0.408000  \n\n[17 rows x 23 columns]",
      "text/html": "<div>\n<style scoped>\n    .dataframe tbody tr th:only-of-type {\n        vertical-align: middle;\n    }\n\n    .dataframe tbody tr th {\n        vertical-align: top;\n    }\n\n    .dataframe thead th {\n        text-align: right;\n    }\n</style>\n<table border=\"1\" class=\"dataframe\">\n  <thead>\n    <tr style=\"text-align: right;\">\n      <th></th>\n      <th>first_name</th>\n      <th>last_name</th>\n      <th>gender</th>\n      <th>past_3_years_bike_related_purchases</th>\n      <th>DOB</th>\n      <th>job_title</th>\n      <th>job_industry_category</th>\n      <th>wealth_segment</th>\n      <th>deceased_indicator</th>\n      <th>owns_car</th>\n      <th>...</th>\n      <th>state</th>\n      <th>country</th>\n      <th>property_valuation</th>\n      <th>Unnamed: 16</th>\n      <th>Unnamed: 17</th>\n      <th>Unnamed: 18</th>\n      <th>Unnamed: 19</th>\n      <th>Unnamed: 20</th>\n      <th>Rank</th>\n      <th>Value</th>\n    </tr>\n  </thead>\n  <tbody>\n    <tr>\n      <th>59</th>\n      <td>Normy</td>\n      <td>Goodinge</td>\n      <td>U</td>\n      <td>5</td>\n      <td>NaT</td>\n      <td>Associate Professor</td>\n      <td>IT</td>\n      <td>Mass Customer</td>\n      <td>N</td>\n      <td>No</td>\n      <td>...</td>\n      <td>VIC</td>\n      <td>Australia</td>\n      <td>5</td>\n      <td>0.71</td>\n      <td>0.7100</td>\n      <td>0.710000</td>\n      <td>0.603500</td>\n      <td>57</td>\n      <td>57</td>\n      <td>1.375000</td>\n    </tr>\n    <tr>\n      <th>226</th>\n      <td>Hatti</td>\n      <td>Carletti</td>\n      <td>U</td>\n      <td>35</td>\n      <td>NaT</td>\n      <td>Legal Assistant</td>\n      <td>IT</td>\n      <td>Affluent Customer</td>\n      <td>N</td>\n      <td>Yes</td>\n      <td>...</td>\n      <td>NSW</td>\n      <td>Australia</td>\n      <td>9</td>\n      <td>0.91</td>\n      <td>1.1375</td>\n      <td>1.421875</td>\n      <td>1.421875</td>\n      <td>226</td>\n      <td>226</td>\n      <td>1.112500</td>\n    </tr>\n    <tr>\n      <th>324</th>\n      <td>Rozamond</td>\n      <td>Turtle</td>\n      <td>U</td>\n      <td>69</td>\n      <td>NaT</td>\n      <td>Legal Assistant</td>\n      <td>IT</td>\n      <td>Mass Customer</td>\n      <td>N</td>\n      <td>Yes</td>\n      <td>...</td>\n      <td>VIC</td>\n      <td>Australia</td>\n      <td>3</td>\n      <td>0.92</td>\n      <td>1.1500</td>\n      <td>1.150000</td>\n      <td>0.977500</td>\n      <td>324</td>\n      <td>324</td>\n      <td>1.010000</td>\n    </tr>\n    <tr>\n      <th>358</th>\n      <td>Tamas</td>\n      <td>Swatman</td>\n      <td>U</td>\n      <td>65</td>\n      <td>NaT</td>\n      <td>Assistant Media Planner</td>\n      <td>Entertainment</td>\n      <td>Affluent Customer</td>\n      <td>N</td>\n      <td>No</td>\n      <td>...</td>\n      <td>QLD</td>\n      <td>Australia</td>\n      <td>8</td>\n      <td>0.90</td>\n      <td>0.9000</td>\n      <td>0.900000</td>\n      <td>0.900000</td>\n      <td>358</td>\n      <td>358</td>\n      <td>0.980000</td>\n    </tr>\n    <tr>\n      <th>360</th>\n      <td>Tracy</td>\n      <td>Andrejevic</td>\n      <td>U</td>\n      <td>71</td>\n      <td>NaT</td>\n      <td>Programmer II</td>\n      <td>IT</td>\n      <td>Mass Customer</td>\n      <td>N</td>\n      <td>Yes</td>\n      <td>...</td>\n      <td>VIC</td>\n      <td>Australia</td>\n      <td>7</td>\n      <td>0.74</td>\n      <td>0.9250</td>\n      <td>0.925000</td>\n      <td>0.786250</td>\n      <td>361</td>\n      <td>361</td>\n      <td>0.977500</td>\n    </tr>\n    <tr>\n      <th>374</th>\n      <td>Agneta</td>\n      <td>McAmish</td>\n      <td>U</td>\n      <td>66</td>\n      <td>NaT</td>\n      <td>Structural Analysis Engineer</td>\n      <td>IT</td>\n      <td>Mass Customer</td>\n      <td>N</td>\n      <td>No</td>\n      <td>...</td>\n      <td>QLD</td>\n      <td>Australia</td>\n      <td>6</td>\n      <td>0.95</td>\n      <td>0.9500</td>\n      <td>0.950000</td>\n      <td>0.807500</td>\n      <td>375</td>\n      <td>375</td>\n      <td>0.960000</td>\n    </tr>\n    <tr>\n      <th>434</th>\n      <td>Gregg</td>\n      <td>Aimeric</td>\n      <td>U</td>\n      <td>52</td>\n      <td>NaT</td>\n      <td>Internal Auditor</td>\n      <td>IT</td>\n      <td>Mass Customer</td>\n      <td>N</td>\n      <td>No</td>\n      <td>...</td>\n      <td>VIC</td>\n      <td>Australia</td>\n      <td>5</td>\n      <td>0.50</td>\n      <td>0.5000</td>\n      <td>0.500000</td>\n      <td>0.425000</td>\n      <td>433</td>\n      <td>433</td>\n      <td>0.906250</td>\n    </tr>\n    <tr>\n      <th>439</th>\n      <td>Johna</td>\n      <td>Bunker</td>\n      <td>U</td>\n      <td>93</td>\n      <td>NaT</td>\n      <td>Tax Accountant</td>\n      <td>IT</td>\n      <td>Mass Customer</td>\n      <td>N</td>\n      <td>Yes</td>\n      <td>...</td>\n      <td>VIC</td>\n      <td>Australia</td>\n      <td>6</td>\n      <td>0.85</td>\n      <td>1.0625</td>\n      <td>1.328125</td>\n      <td>1.128906</td>\n      <td>436</td>\n      <td>436</td>\n      <td>0.903125</td>\n    </tr>\n    <tr>\n      <th>574</th>\n      <td>Harlene</td>\n      <td>Nono</td>\n      <td>U</td>\n      <td>69</td>\n      <td>NaT</td>\n      <td>Human Resources Manager</td>\n      <td>IT</td>\n      <td>Mass Customer</td>\n      <td>N</td>\n      <td>No</td>\n      <td>...</td>\n      <td>NSW</td>\n      <td>Australia</td>\n      <td>7</td>\n      <td>1.10</td>\n      <td>1.1000</td>\n      <td>1.100000</td>\n      <td>0.935000</td>\n      <td>575</td>\n      <td>575</td>\n      <td>0.796875</td>\n    </tr>\n    <tr>\n      <th>598</th>\n      <td>Gerianne</td>\n      <td>Kaysor</td>\n      <td>U</td>\n      <td>15</td>\n      <td>NaT</td>\n      <td>Project Manager</td>\n      <td>IT</td>\n      <td>Affluent Customer</td>\n      <td>N</td>\n      <td>No</td>\n      <td>...</td>\n      <td>NSW</td>\n      <td>Australia</td>\n      <td>11</td>\n      <td>0.41</td>\n      <td>0.4100</td>\n      <td>0.512500</td>\n      <td>0.512500</td>\n      <td>599</td>\n      <td>599</td>\n      <td>0.775000</td>\n    </tr>\n    <tr>\n      <th>664</th>\n      <td>Chicky</td>\n      <td>Sinclar</td>\n      <td>U</td>\n      <td>43</td>\n      <td>NaT</td>\n      <td>Operator</td>\n      <td>IT</td>\n      <td>High Net Worth</td>\n      <td>N</td>\n      <td>Yes</td>\n      <td>...</td>\n      <td>VIC</td>\n      <td>Australia</td>\n      <td>4</td>\n      <td>0.83</td>\n      <td>1.0375</td>\n      <td>1.037500</td>\n      <td>1.037500</td>\n      <td>662</td>\n      <td>662</td>\n      <td>0.711875</td>\n    </tr>\n    <tr>\n      <th>751</th>\n      <td>Adriana</td>\n      <td>Saundercock</td>\n      <td>U</td>\n      <td>20</td>\n      <td>NaT</td>\n      <td>Nurse</td>\n      <td>IT</td>\n      <td>High Net Worth</td>\n      <td>N</td>\n      <td>Yes</td>\n      <td>...</td>\n      <td>VIC</td>\n      <td>Australia</td>\n      <td>7</td>\n      <td>0.52</td>\n      <td>0.6500</td>\n      <td>0.650000</td>\n      <td>0.650000</td>\n      <td>751</td>\n      <td>751</td>\n      <td>0.648125</td>\n    </tr>\n    <tr>\n      <th>775</th>\n      <td>Dmitri</td>\n      <td>Viant</td>\n      <td>U</td>\n      <td>62</td>\n      <td>NaT</td>\n      <td>Paralegal</td>\n      <td>Financial Services</td>\n      <td>Affluent Customer</td>\n      <td>N</td>\n      <td>No</td>\n      <td>...</td>\n      <td>VIC</td>\n      <td>Australia</td>\n      <td>1</td>\n      <td>0.67</td>\n      <td>0.6700</td>\n      <td>0.670000</td>\n      <td>0.670000</td>\n      <td>774</td>\n      <td>774</td>\n      <td>0.626875</td>\n    </tr>\n    <tr>\n      <th>835</th>\n      <td>Porty</td>\n      <td>Hansed</td>\n      <td>U</td>\n      <td>88</td>\n      <td>NaT</td>\n      <td>General Manager</td>\n      <td>IT</td>\n      <td>Mass Customer</td>\n      <td>N</td>\n      <td>No</td>\n      <td>...</td>\n      <td>NSW</td>\n      <td>Australia</td>\n      <td>11</td>\n      <td>0.44</td>\n      <td>0.4400</td>\n      <td>0.550000</td>\n      <td>0.467500</td>\n      <td>832</td>\n      <td>832</td>\n      <td>0.575000</td>\n    </tr>\n    <tr>\n      <th>883</th>\n      <td>Shara</td>\n      <td>Bramhill</td>\n      <td>U</td>\n      <td>24</td>\n      <td>NaT</td>\n      <td>NaN</td>\n      <td>IT</td>\n      <td>Affluent Customer</td>\n      <td>N</td>\n      <td>No</td>\n      <td>...</td>\n      <td>NSW</td>\n      <td>Australia</td>\n      <td>10</td>\n      <td>0.62</td>\n      <td>0.6200</td>\n      <td>0.775000</td>\n      <td>0.775000</td>\n      <td>883</td>\n      <td>883</td>\n      <td>0.531250</td>\n    </tr>\n    <tr>\n      <th>904</th>\n      <td>Roth</td>\n      <td>Crum</td>\n      <td>U</td>\n      <td>0</td>\n      <td>NaT</td>\n      <td>Legal Assistant</td>\n      <td>IT</td>\n      <td>Mass Customer</td>\n      <td>N</td>\n      <td>No</td>\n      <td>...</td>\n      <td>NSW</td>\n      <td>Australia</td>\n      <td>6</td>\n      <td>0.61</td>\n      <td>0.6100</td>\n      <td>0.610000</td>\n      <td>0.518500</td>\n      <td>904</td>\n      <td>904</td>\n      <td>0.500000</td>\n    </tr>\n    <tr>\n      <th>984</th>\n      <td>Pauline</td>\n      <td>Dallosso</td>\n      <td>U</td>\n      <td>82</td>\n      <td>NaT</td>\n      <td>Desktop Support Technician</td>\n      <td>IT</td>\n      <td>Affluent Customer</td>\n      <td>N</td>\n      <td>Yes</td>\n      <td>...</td>\n      <td>NSW</td>\n      <td>Australia</td>\n      <td>10</td>\n      <td>1.10</td>\n      <td>1.3750</td>\n      <td>1.718750</td>\n      <td>1.718750</td>\n      <td>985</td>\n      <td>985</td>\n      <td>0.408000</td>\n    </tr>\n  </tbody>\n</table>\n<p>17 rows × 23 columns</p>\n</div>"
     },
     "execution_count": 29,
     "metadata": {},
     "output_type": "execute_result"
    }
   ],
   "source": [
    "new_customer_list[new_customer_list.gender == \"U\"]"
   ]
  },
  {
   "cell_type": "code",
   "execution_count": 30,
   "id": "c0b9c3e1-02ac-4c1c-b250-704c2b42dbba",
   "metadata": {
    "pycharm": {
     "name": "#%%\n"
    }
   },
   "outputs": [
    {
     "data": {
      "text/plain": "1998-02-05    2\n1978-01-15    2\n1977-11-08    2\n1951-11-28    2\n1979-07-28    2\n             ..\n1945-08-08    1\n1943-08-27    1\n1999-10-24    1\n1976-01-24    1\n1955-10-02    1\nName: DOB, Length: 958, dtype: int64"
     },
     "execution_count": 30,
     "metadata": {},
     "output_type": "execute_result"
    }
   ],
   "source": [
    "new_customer_list[\"DOB\"].value_counts()"
   ]
  },
  {
   "cell_type": "code",
   "execution_count": 31,
   "id": "80d04141-79db-4d59-abc1-a73e7d2d791d",
   "metadata": {
    "pycharm": {
     "name": "#%%\n"
    }
   },
   "outputs": [
    {
     "data": {
      "text/plain": "Financial Services    203\nManufacturing         199\nHealth                152\nRetail                 78\nProperty               64\nIT                     51\nEntertainment          37\nArgiculture            26\nTelecommunications     25\nName: job_industry_category, dtype: int64"
     },
     "execution_count": 31,
     "metadata": {},
     "output_type": "execute_result"
    }
   ],
   "source": [
    "new_customer_list[\"job_industry_category\"].value_counts()"
   ]
  },
  {
   "cell_type": "code",
   "execution_count": 32,
   "id": "25e9d34f-b384-4036-8639-772a7f834868",
   "metadata": {
    "pycharm": {
     "name": "#%%\n"
    }
   },
   "outputs": [
    {
     "data": {
      "text/plain": "Mass Customer        508\nHigh Net Worth       251\nAffluent Customer    241\nName: wealth_segment, dtype: int64"
     },
     "execution_count": 32,
     "metadata": {},
     "output_type": "execute_result"
    }
   ],
   "source": [
    "new_customer_list[\"wealth_segment\"].value_counts()"
   ]
  },
  {
   "cell_type": "code",
   "execution_count": 33,
   "id": "359d6f9b-827e-4f35-ace4-6c63ddd82e16",
   "metadata": {
    "pycharm": {
     "name": "#%%\n"
    }
   },
   "outputs": [
    {
     "data": {
      "text/plain": "NSW    506\nVIC    266\nQLD    228\nName: state, dtype: int64"
     },
     "execution_count": 33,
     "metadata": {},
     "output_type": "execute_result"
    }
   ],
   "source": [
    "new_customer_list[\"state\"].value_counts()"
   ]
  },
  {
   "cell_type": "code",
   "execution_count": 34,
   "id": "04603749-17af-4f08-ba48-eeddd98f9d23",
   "metadata": {
    "pycharm": {
     "name": "#%%\n"
    }
   },
   "outputs": [
    {
     "data": {
      "text/plain": "No     507\nYes    493\nName: owns_car, dtype: int64"
     },
     "execution_count": 34,
     "metadata": {},
     "output_type": "execute_result"
    }
   ],
   "source": [
    "new_customer_list[\"owns_car\"].value_counts()"
   ]
  },
  {
   "cell_type": "code",
   "execution_count": 35,
   "id": "b731e3c5-85f7-4c99-9714-8d345faf6e0e",
   "metadata": {
    "pycharm": {
     "name": "#%%\n"
    }
   },
   "outputs": [
    {
     "data": {
      "text/plain": "N    1000\nName: deceased_indicator, dtype: int64"
     },
     "execution_count": 35,
     "metadata": {},
     "output_type": "execute_result"
    }
   ],
   "source": [
    "new_customer_list[\"deceased_indicator\"].value_counts()"
   ]
  },
  {
   "cell_type": "code",
   "execution_count": 36,
   "id": "97682f82-a465-4155-8cad-e758b2ecd46c",
   "metadata": {
    "pycharm": {
     "name": "#%%\n"
    }
   },
   "outputs": [
    {
     "data": {
      "text/plain": "760     13\n259     12\n455      9\n133      9\n386      9\n        ..\n240      1\n248      1\n657      1\n249      1\n1000     1\nName: Rank, Length: 324, dtype: int64"
     },
     "execution_count": 36,
     "metadata": {},
     "output_type": "execute_result"
    }
   ],
   "source": [
    "new_customer_list[\"Rank\"].value_counts()"
   ]
  },
  {
   "cell_type": "code",
   "execution_count": 37,
   "id": "e715eb44-6b08-4a87-90ea-07540befa13e",
   "metadata": {
    "pycharm": {
     "name": "#%%\n"
    }
   },
   "outputs": [
    {
     "data": {
      "text/plain": "Australia    1000\nName: country, dtype: int64"
     },
     "execution_count": 37,
     "metadata": {},
     "output_type": "execute_result"
    }
   ],
   "source": [
    "new_customer_list[\"country\"].value_counts()"
   ]
  },
  {
   "cell_type": "code",
   "execution_count": 38,
   "id": "761335d0-2797-4eab-9b56-06134b87710f",
   "metadata": {
    "pycharm": {
     "name": "#%%\n"
    }
   },
   "outputs": [
    {
     "data": {
      "text/plain": "   customer_id      first_name  last_name  gender  \\\n0            1         Laraine  Medendorp       F   \n1            2             Eli    Bockman    Male   \n2            3           Arlin     Dearle    Male   \n3            4          Talbot        NaN    Male   \n4            5  Sheila-kathryn     Calton  Female   \n\n   past_3_years_bike_related_purchases        DOB               job_title  \\\n0                                   93 1953-10-12     Executive Secretary   \n1                                   81 1980-12-16  Administrative Officer   \n2                                   61 1954-01-20      Recruiting Manager   \n3                                   33 1961-10-03                     NaN   \n4                                   56 1977-05-13           Senior Editor   \n\n  job_industry_category     wealth_segment deceased_indicator  \\\n0                Health      Mass Customer                  N   \n1    Financial Services      Mass Customer                  N   \n2              Property      Mass Customer                  N   \n3                    IT      Mass Customer                  N   \n4                   NaN  Affluent Customer                  N   \n\n                                             default owns_car  tenure  \n0                                                 \"'      Yes    11.0  \n1                       <script>alert('hi')</script>      Yes    16.0  \n2                                2018-02-01 00:00:00      Yes    15.0  \n3  () { _; } >_[$($())] { touch /tmp/blns.shellsh...       No     7.0  \n4                                                NIL      Yes     8.0  ",
      "text/html": "<div>\n<style scoped>\n    .dataframe tbody tr th:only-of-type {\n        vertical-align: middle;\n    }\n\n    .dataframe tbody tr th {\n        vertical-align: top;\n    }\n\n    .dataframe thead th {\n        text-align: right;\n    }\n</style>\n<table border=\"1\" class=\"dataframe\">\n  <thead>\n    <tr style=\"text-align: right;\">\n      <th></th>\n      <th>customer_id</th>\n      <th>first_name</th>\n      <th>last_name</th>\n      <th>gender</th>\n      <th>past_3_years_bike_related_purchases</th>\n      <th>DOB</th>\n      <th>job_title</th>\n      <th>job_industry_category</th>\n      <th>wealth_segment</th>\n      <th>deceased_indicator</th>\n      <th>default</th>\n      <th>owns_car</th>\n      <th>tenure</th>\n    </tr>\n  </thead>\n  <tbody>\n    <tr>\n      <th>0</th>\n      <td>1</td>\n      <td>Laraine</td>\n      <td>Medendorp</td>\n      <td>F</td>\n      <td>93</td>\n      <td>1953-10-12</td>\n      <td>Executive Secretary</td>\n      <td>Health</td>\n      <td>Mass Customer</td>\n      <td>N</td>\n      <td>\"'</td>\n      <td>Yes</td>\n      <td>11.0</td>\n    </tr>\n    <tr>\n      <th>1</th>\n      <td>2</td>\n      <td>Eli</td>\n      <td>Bockman</td>\n      <td>Male</td>\n      <td>81</td>\n      <td>1980-12-16</td>\n      <td>Administrative Officer</td>\n      <td>Financial Services</td>\n      <td>Mass Customer</td>\n      <td>N</td>\n      <td>&lt;script&gt;alert('hi')&lt;/script&gt;</td>\n      <td>Yes</td>\n      <td>16.0</td>\n    </tr>\n    <tr>\n      <th>2</th>\n      <td>3</td>\n      <td>Arlin</td>\n      <td>Dearle</td>\n      <td>Male</td>\n      <td>61</td>\n      <td>1954-01-20</td>\n      <td>Recruiting Manager</td>\n      <td>Property</td>\n      <td>Mass Customer</td>\n      <td>N</td>\n      <td>2018-02-01 00:00:00</td>\n      <td>Yes</td>\n      <td>15.0</td>\n    </tr>\n    <tr>\n      <th>3</th>\n      <td>4</td>\n      <td>Talbot</td>\n      <td>NaN</td>\n      <td>Male</td>\n      <td>33</td>\n      <td>1961-10-03</td>\n      <td>NaN</td>\n      <td>IT</td>\n      <td>Mass Customer</td>\n      <td>N</td>\n      <td>() { _; } &gt;_[$($())] { touch /tmp/blns.shellsh...</td>\n      <td>No</td>\n      <td>7.0</td>\n    </tr>\n    <tr>\n      <th>4</th>\n      <td>5</td>\n      <td>Sheila-kathryn</td>\n      <td>Calton</td>\n      <td>Female</td>\n      <td>56</td>\n      <td>1977-05-13</td>\n      <td>Senior Editor</td>\n      <td>NaN</td>\n      <td>Affluent Customer</td>\n      <td>N</td>\n      <td>NIL</td>\n      <td>Yes</td>\n      <td>8.0</td>\n    </tr>\n  </tbody>\n</table>\n</div>"
     },
     "execution_count": 38,
     "metadata": {},
     "output_type": "execute_result"
    }
   ],
   "source": [
    "customer_demographic.head()"
   ]
  },
  {
   "cell_type": "code",
   "execution_count": 39,
   "id": "7b55b84a-c244-4790-ade1-3b1a747e4ec0",
   "metadata": {
    "pycharm": {
     "name": "#%%\n"
    }
   },
   "outputs": [
    {
     "name": "stdout",
     "output_type": "stream",
     "text": [
      "<class 'pandas.core.frame.DataFrame'>\n",
      "RangeIndex: 4000 entries, 0 to 3999\n",
      "Data columns (total 13 columns):\n",
      " #   Column                               Non-Null Count  Dtype         \n",
      "---  ------                               --------------  -----         \n",
      " 0   customer_id                          4000 non-null   int64         \n",
      " 1   first_name                           4000 non-null   object        \n",
      " 2   last_name                            3875 non-null   object        \n",
      " 3   gender                               4000 non-null   object        \n",
      " 4   past_3_years_bike_related_purchases  4000 non-null   int64         \n",
      " 5   DOB                                  3913 non-null   datetime64[ns]\n",
      " 6   job_title                            3494 non-null   object        \n",
      " 7   job_industry_category                3344 non-null   object        \n",
      " 8   wealth_segment                       4000 non-null   object        \n",
      " 9   deceased_indicator                   4000 non-null   object        \n",
      " 10  default                              3698 non-null   object        \n",
      " 11  owns_car                             4000 non-null   object        \n",
      " 12  tenure                               3913 non-null   float64       \n",
      "dtypes: datetime64[ns](1), float64(1), int64(2), object(9)\n",
      "memory usage: 406.4+ KB\n"
     ]
    }
   ],
   "source": [
    "customer_demographic.info()"
   ]
  },
  {
   "cell_type": "code",
   "execution_count": 40,
   "id": "484de220-c475-4df5-9546-908db990150d",
   "metadata": {
    "pycharm": {
     "name": "#%%\n"
    }
   },
   "outputs": [
    {
     "data": {
      "text/plain": "(4000, 13)"
     },
     "execution_count": 40,
     "metadata": {},
     "output_type": "execute_result"
    }
   ],
   "source": [
    "customer_demographic.shape"
   ]
  },
  {
   "cell_type": "code",
   "execution_count": 41,
   "id": "aaf1ae12-e05e-4fbc-846e-0043e98e3440",
   "metadata": {
    "pycharm": {
     "name": "#%%\n"
    }
   },
   "outputs": [
    {
     "data": {
      "text/plain": "customer_id                              0\nfirst_name                               0\nlast_name                              125\ngender                                   0\npast_3_years_bike_related_purchases      0\nDOB                                     87\njob_title                              506\njob_industry_category                  656\nwealth_segment                           0\ndeceased_indicator                       0\ndefault                                302\nowns_car                                 0\ntenure                                  87\ndtype: int64"
     },
     "execution_count": 41,
     "metadata": {},
     "output_type": "execute_result"
    }
   ],
   "source": [
    "customer_demographic.isnull().sum()"
   ]
  },
  {
   "cell_type": "code",
   "execution_count": 42,
   "id": "11b1041a-9c8f-4224-bfe7-d81c77fc6204",
   "metadata": {
    "pycharm": {
     "name": "#%%\n"
    }
   },
   "outputs": [
    {
     "data": {
      "text/plain": "0"
     },
     "execution_count": 42,
     "metadata": {},
     "output_type": "execute_result"
    }
   ],
   "source": [
    "customer_demographic.duplicated().sum()"
   ]
  },
  {
   "cell_type": "code",
   "execution_count": 43,
   "id": "8014ccee-e0a6-4a7a-a6f7-e1379b8576a9",
   "metadata": {
    "pycharm": {
     "name": "#%%\n"
    }
   },
   "outputs": [
    {
     "data": {
      "text/plain": "customer_id                            4000\nfirst_name                             3139\nlast_name                              3725\ngender                                    6\npast_3_years_bike_related_purchases     100\nDOB                                    3448\njob_title                               195\njob_industry_category                     9\nwealth_segment                            3\ndeceased_indicator                        2\ndefault                                  90\nowns_car                                  2\ntenure                                   22\ndtype: int64"
     },
     "execution_count": 43,
     "metadata": {},
     "output_type": "execute_result"
    }
   ],
   "source": [
    "customer_demographic.nunique()"
   ]
  },
  {
   "cell_type": "code",
   "execution_count": 44,
   "id": "d93c9cd8-0ae7-4b22-af24-55ce9bc8beeb",
   "metadata": {
    "pycharm": {
     "name": "#%%\n"
    }
   },
   "outputs": [
    {
     "data": {
      "text/plain": "Index(['customer_id', 'first_name', 'last_name', 'gender',\n       'past_3_years_bike_related_purchases', 'DOB', 'job_title',\n       'job_industry_category', 'wealth_segment', 'deceased_indicator',\n       'default', 'owns_car', 'tenure'],\n      dtype='object')"
     },
     "execution_count": 44,
     "metadata": {},
     "output_type": "execute_result"
    }
   ],
   "source": [
    "customer_demographic.columns"
   ]
  },
  {
   "cell_type": "code",
   "execution_count": 45,
   "id": "5b9df817-0d73-48ea-955a-f5f7480c0f81",
   "metadata": {
    "pycharm": {
     "name": "#%%\n"
    }
   },
   "outputs": [
    {
     "data": {
      "text/plain": "Female    2037\nMale      1872\nU           88\nF            1\nFemal        1\nM            1\nName: gender, dtype: int64"
     },
     "execution_count": 45,
     "metadata": {},
     "output_type": "execute_result"
    }
   ],
   "source": [
    "customer_demographic[\"gender\"].value_counts()"
   ]
  },
  {
   "cell_type": "code",
   "execution_count": 46,
   "id": "d219b904-db0f-488e-9d61-3cba4b61bf3d",
   "metadata": {
    "pycharm": {
     "name": "#%%\n"
    }
   },
   "outputs": [
    {
     "data": {
      "text/plain": "Female    2039\nMale      1873\nU           88\nName: gender, dtype: int64"
     },
     "execution_count": 46,
     "metadata": {},
     "output_type": "execute_result"
    }
   ],
   "source": [
    "customer_demographic[\"gender\"] = customer_demographic[\"gender\"].replace(\"F\", \"Female\").replace(\"M\", \"Male\").replace(\"Femal\", \"Female\")\n",
    "customer_demographic[\"gender\"].value_counts()"
   ]
  },
  {
   "cell_type": "code",
   "execution_count": 47,
   "id": "fcc539b7-7cb7-4ae4-adfb-89c73b3edabb",
   "metadata": {
    "pycharm": {
     "name": "#%%\n"
    }
   },
   "outputs": [
    {
     "data": {
      "text/plain": "1978-01-30    7\n1964-07-08    4\n1962-12-17    4\n1978-08-19    4\n1977-05-13    4\n             ..\n1989-06-16    1\n1998-09-30    1\n1985-03-11    1\n1989-10-23    1\n1991-11-05    1\nName: DOB, Length: 3448, dtype: int64"
     },
     "execution_count": 47,
     "metadata": {},
     "output_type": "execute_result"
    }
   ],
   "source": [
    "customer_demographic[\"DOB\"].value_counts()"
   ]
  },
  {
   "cell_type": "code",
   "execution_count": 48,
   "id": "d88deb7f-4301-4d00-ba63-68876f244a2d",
   "metadata": {
    "pycharm": {
     "name": "#%%\n"
    }
   },
   "outputs": [
    {
     "data": {
      "text/plain": "16    56\n19    56\n67    54\n20    54\n2     50\n      ..\n8     28\n95    27\n85    27\n86    27\n92    24\nName: past_3_years_bike_related_purchases, Length: 100, dtype: int64"
     },
     "execution_count": 48,
     "metadata": {},
     "output_type": "execute_result"
    }
   ],
   "source": [
    "customer_demographic[\"past_3_years_bike_related_purchases\"].value_counts()"
   ]
  },
  {
   "cell_type": "code",
   "execution_count": 49,
   "id": "585d10da-b5e5-4f61-8839-e62b7409d852",
   "metadata": {
    "pycharm": {
     "name": "#%%\n"
    }
   },
   "outputs": [
    {
     "data": {
      "text/plain": "Business Systems Development Analyst    45\nTax Accountant                          44\nSocial Worker                           44\nInternal Auditor                        42\nRecruiting Manager                      41\n                                        ..\nDatabase Administrator I                 4\nHealth Coach I                           3\nHealth Coach III                         3\nResearch Assistant III                   3\nDeveloper I                              1\nName: job_title, Length: 195, dtype: int64"
     },
     "execution_count": 49,
     "metadata": {},
     "output_type": "execute_result"
    }
   ],
   "source": [
    "customer_demographic[\"job_title\"].value_counts()"
   ]
  },
  {
   "cell_type": "code",
   "execution_count": 50,
   "id": "4bc343a7-c153-49b5-985f-b6939e8af51a",
   "metadata": {
    "pycharm": {
     "name": "#%%\n"
    }
   },
   "outputs": [
    {
     "data": {
      "text/plain": "Manufacturing         799\nFinancial Services    774\nHealth                602\nRetail                358\nProperty              267\nIT                    223\nEntertainment         136\nArgiculture           113\nTelecommunications     72\nName: job_industry_category, dtype: int64"
     },
     "execution_count": 50,
     "metadata": {},
     "output_type": "execute_result"
    }
   ],
   "source": [
    "customer_demographic[\"job_industry_category\"].value_counts()"
   ]
  },
  {
   "cell_type": "code",
   "execution_count": 51,
   "id": "e91ecd10-fd6f-4fcd-a332-aa85d6753bde",
   "metadata": {
    "pycharm": {
     "name": "#%%\n"
    }
   },
   "outputs": [
    {
     "data": {
      "text/plain": "Mass Customer        2000\nHigh Net Worth       1021\nAffluent Customer     979\nName: wealth_segment, dtype: int64"
     },
     "execution_count": 51,
     "metadata": {},
     "output_type": "execute_result"
    }
   ],
   "source": [
    "customer_demographic[\"wealth_segment\"].value_counts()"
   ]
  },
  {
   "cell_type": "code",
   "execution_count": 52,
   "id": "f148af7b-5581-4f5d-8d80-cc56ec1979c8",
   "metadata": {
    "pycharm": {
     "name": "#%%\n"
    }
   },
   "outputs": [
    {
     "data": {
      "text/plain": "N    3998\nY       2\nName: deceased_indicator, dtype: int64"
     },
     "execution_count": 52,
     "metadata": {},
     "output_type": "execute_result"
    }
   ],
   "source": [
    "customer_demographic[\"deceased_indicator\"].value_counts()"
   ]
  },
  {
   "cell_type": "code",
   "execution_count": 53,
   "id": "b73b972a-1a86-40a7-91c7-2bce78ecff48",
   "metadata": {
    "pycharm": {
     "name": "#%%\n"
    }
   },
   "outputs": [
    {
     "data": {
      "text/plain": "100                                       113\n1                                         112\n-1                                        111\n-100                                       99\nÙ¡Ù¢Ù£                                     53\n                                         ... \ntestâ testâ«                               31\n/dev/null; touch /tmp/blns.fail ; echo     30\nâªâªtestâª                                 29\nì¸ëë°í ë¥´                                 27\n,ãã»:*:ã»ãâ( â» Ï â» )ãã»:*:ã»ãâ           25\nName: default, Length: 90, dtype: int64"
     },
     "execution_count": 53,
     "metadata": {},
     "output_type": "execute_result"
    }
   ],
   "source": [
    "customer_demographic[\"default\"].value_counts()"
   ]
  },
  {
   "cell_type": "code",
   "execution_count": 54,
   "id": "2c36e672-d9a2-4200-80c8-5e8f2f376da0",
   "metadata": {
    "pycharm": {
     "name": "#%%\n"
    }
   },
   "outputs": [
    {
     "data": {
      "text/plain": "   customer_id      first_name  last_name  gender  \\\n0            1         Laraine  Medendorp  Female   \n1            2             Eli    Bockman    Male   \n2            3           Arlin     Dearle    Male   \n3            4          Talbot        NaN    Male   \n4            5  Sheila-kathryn     Calton  Female   \n\n   past_3_years_bike_related_purchases        DOB               job_title  \\\n0                                   93 1953-10-12     Executive Secretary   \n1                                   81 1980-12-16  Administrative Officer   \n2                                   61 1954-01-20      Recruiting Manager   \n3                                   33 1961-10-03                     NaN   \n4                                   56 1977-05-13           Senior Editor   \n\n  job_industry_category     wealth_segment deceased_indicator owns_car  tenure  \n0                Health      Mass Customer                  N      Yes    11.0  \n1    Financial Services      Mass Customer                  N      Yes    16.0  \n2              Property      Mass Customer                  N      Yes    15.0  \n3                    IT      Mass Customer                  N       No     7.0  \n4                   NaN  Affluent Customer                  N      Yes     8.0  ",
      "text/html": "<div>\n<style scoped>\n    .dataframe tbody tr th:only-of-type {\n        vertical-align: middle;\n    }\n\n    .dataframe tbody tr th {\n        vertical-align: top;\n    }\n\n    .dataframe thead th {\n        text-align: right;\n    }\n</style>\n<table border=\"1\" class=\"dataframe\">\n  <thead>\n    <tr style=\"text-align: right;\">\n      <th></th>\n      <th>customer_id</th>\n      <th>first_name</th>\n      <th>last_name</th>\n      <th>gender</th>\n      <th>past_3_years_bike_related_purchases</th>\n      <th>DOB</th>\n      <th>job_title</th>\n      <th>job_industry_category</th>\n      <th>wealth_segment</th>\n      <th>deceased_indicator</th>\n      <th>owns_car</th>\n      <th>tenure</th>\n    </tr>\n  </thead>\n  <tbody>\n    <tr>\n      <th>0</th>\n      <td>1</td>\n      <td>Laraine</td>\n      <td>Medendorp</td>\n      <td>Female</td>\n      <td>93</td>\n      <td>1953-10-12</td>\n      <td>Executive Secretary</td>\n      <td>Health</td>\n      <td>Mass Customer</td>\n      <td>N</td>\n      <td>Yes</td>\n      <td>11.0</td>\n    </tr>\n    <tr>\n      <th>1</th>\n      <td>2</td>\n      <td>Eli</td>\n      <td>Bockman</td>\n      <td>Male</td>\n      <td>81</td>\n      <td>1980-12-16</td>\n      <td>Administrative Officer</td>\n      <td>Financial Services</td>\n      <td>Mass Customer</td>\n      <td>N</td>\n      <td>Yes</td>\n      <td>16.0</td>\n    </tr>\n    <tr>\n      <th>2</th>\n      <td>3</td>\n      <td>Arlin</td>\n      <td>Dearle</td>\n      <td>Male</td>\n      <td>61</td>\n      <td>1954-01-20</td>\n      <td>Recruiting Manager</td>\n      <td>Property</td>\n      <td>Mass Customer</td>\n      <td>N</td>\n      <td>Yes</td>\n      <td>15.0</td>\n    </tr>\n    <tr>\n      <th>3</th>\n      <td>4</td>\n      <td>Talbot</td>\n      <td>NaN</td>\n      <td>Male</td>\n      <td>33</td>\n      <td>1961-10-03</td>\n      <td>NaN</td>\n      <td>IT</td>\n      <td>Mass Customer</td>\n      <td>N</td>\n      <td>No</td>\n      <td>7.0</td>\n    </tr>\n    <tr>\n      <th>4</th>\n      <td>5</td>\n      <td>Sheila-kathryn</td>\n      <td>Calton</td>\n      <td>Female</td>\n      <td>56</td>\n      <td>1977-05-13</td>\n      <td>Senior Editor</td>\n      <td>NaN</td>\n      <td>Affluent Customer</td>\n      <td>N</td>\n      <td>Yes</td>\n      <td>8.0</td>\n    </tr>\n  </tbody>\n</table>\n</div>"
     },
     "execution_count": 54,
     "metadata": {},
     "output_type": "execute_result"
    }
   ],
   "source": [
    "customer_demographic = customer_demographic.drop(\"default\", axis=1)\n",
    "customer_demographic.head()"
   ]
  },
  {
   "cell_type": "code",
   "execution_count": 55,
   "id": "9517f6ca-2770-4279-96d6-0955df4ea30e",
   "metadata": {
    "pycharm": {
     "name": "#%%\n"
    }
   },
   "outputs": [
    {
     "data": {
      "text/plain": "Yes    2024\nNo     1976\nName: owns_car, dtype: int64"
     },
     "execution_count": 55,
     "metadata": {},
     "output_type": "execute_result"
    }
   ],
   "source": [
    "customer_demographic[\"owns_car\"].value_counts()"
   ]
  },
  {
   "cell_type": "code",
   "execution_count": 56,
   "id": "31927d55-6684-4c5c-a771-aa3ed39e7b9c",
   "metadata": {
    "pycharm": {
     "name": "#%%\n"
    }
   },
   "outputs": [
    {
     "data": {
      "text/plain": "7.0     235\n5.0     228\n11.0    221\n10.0    218\n16.0    215\n8.0     211\n18.0    208\n12.0    202\n9.0     200\n14.0    200\n6.0     192\n13.0    191\n4.0     191\n17.0    182\n15.0    179\n1.0     166\n3.0     160\n19.0    159\n2.0     150\n20.0     96\n22.0     55\n21.0     54\nName: tenure, dtype: int64"
     },
     "execution_count": 56,
     "metadata": {},
     "output_type": "execute_result"
    }
   ],
   "source": [
    "customer_demographic[\"tenure\"].value_counts()"
   ]
  },
  {
   "cell_type": "code",
   "execution_count": 57,
   "id": "80405cf7-6c79-421c-b7aa-38578c421818",
   "metadata": {
    "pycharm": {
     "name": "#%%\n"
    }
   },
   "outputs": [
    {
     "data": {
      "text/plain": "   customer_id              address  postcode            state    country  \\\n0            1   060 Morning Avenue      2016  New South Wales  Australia   \n1            2  6 Meadow Vale Court      2153  New South Wales  Australia   \n2            4   0 Holy Cross Court      4211              QLD  Australia   \n3            5  17979 Del Mar Point      2448  New South Wales  Australia   \n4            6     9 Oakridge Court      3216              VIC  Australia   \n\n   property_valuation  \n0                  10  \n1                  10  \n2                   9  \n3                   4  \n4                   9  ",
      "text/html": "<div>\n<style scoped>\n    .dataframe tbody tr th:only-of-type {\n        vertical-align: middle;\n    }\n\n    .dataframe tbody tr th {\n        vertical-align: top;\n    }\n\n    .dataframe thead th {\n        text-align: right;\n    }\n</style>\n<table border=\"1\" class=\"dataframe\">\n  <thead>\n    <tr style=\"text-align: right;\">\n      <th></th>\n      <th>customer_id</th>\n      <th>address</th>\n      <th>postcode</th>\n      <th>state</th>\n      <th>country</th>\n      <th>property_valuation</th>\n    </tr>\n  </thead>\n  <tbody>\n    <tr>\n      <th>0</th>\n      <td>1</td>\n      <td>060 Morning Avenue</td>\n      <td>2016</td>\n      <td>New South Wales</td>\n      <td>Australia</td>\n      <td>10</td>\n    </tr>\n    <tr>\n      <th>1</th>\n      <td>2</td>\n      <td>6 Meadow Vale Court</td>\n      <td>2153</td>\n      <td>New South Wales</td>\n      <td>Australia</td>\n      <td>10</td>\n    </tr>\n    <tr>\n      <th>2</th>\n      <td>4</td>\n      <td>0 Holy Cross Court</td>\n      <td>4211</td>\n      <td>QLD</td>\n      <td>Australia</td>\n      <td>9</td>\n    </tr>\n    <tr>\n      <th>3</th>\n      <td>5</td>\n      <td>17979 Del Mar Point</td>\n      <td>2448</td>\n      <td>New South Wales</td>\n      <td>Australia</td>\n      <td>4</td>\n    </tr>\n    <tr>\n      <th>4</th>\n      <td>6</td>\n      <td>9 Oakridge Court</td>\n      <td>3216</td>\n      <td>VIC</td>\n      <td>Australia</td>\n      <td>9</td>\n    </tr>\n  </tbody>\n</table>\n</div>"
     },
     "execution_count": 57,
     "metadata": {},
     "output_type": "execute_result"
    }
   ],
   "source": [
    "customer_address.head()"
   ]
  },
  {
   "cell_type": "code",
   "execution_count": 58,
   "id": "bb726fe6-65a4-452a-b6a1-4374ef8ce560",
   "metadata": {
    "pycharm": {
     "name": "#%%\n"
    }
   },
   "outputs": [
    {
     "name": "stdout",
     "output_type": "stream",
     "text": [
      "<class 'pandas.core.frame.DataFrame'>\n",
      "RangeIndex: 3999 entries, 0 to 3998\n",
      "Data columns (total 6 columns):\n",
      " #   Column              Non-Null Count  Dtype \n",
      "---  ------              --------------  ----- \n",
      " 0   customer_id         3999 non-null   int64 \n",
      " 1   address             3999 non-null   object\n",
      " 2   postcode            3999 non-null   int64 \n",
      " 3   state               3999 non-null   object\n",
      " 4   country             3999 non-null   object\n",
      " 5   property_valuation  3999 non-null   int64 \n",
      "dtypes: int64(3), object(3)\n",
      "memory usage: 187.6+ KB\n"
     ]
    }
   ],
   "source": [
    "customer_address.info()"
   ]
  },
  {
   "cell_type": "code",
   "execution_count": 59,
   "id": "b67ac2df-1bb1-487c-8dec-a46962ef5914",
   "metadata": {
    "pycharm": {
     "name": "#%%\n"
    }
   },
   "outputs": [
    {
     "data": {
      "text/plain": "(3999, 6)"
     },
     "execution_count": 59,
     "metadata": {},
     "output_type": "execute_result"
    }
   ],
   "source": [
    "customer_address.shape"
   ]
  },
  {
   "cell_type": "code",
   "execution_count": 60,
   "id": "1b77100b-18e2-4a2a-8859-cd54ef33cd2f",
   "metadata": {
    "pycharm": {
     "name": "#%%\n"
    }
   },
   "outputs": [
    {
     "data": {
      "text/plain": "customer_id           0\naddress               0\npostcode              0\nstate                 0\ncountry               0\nproperty_valuation    0\ndtype: int64"
     },
     "execution_count": 60,
     "metadata": {},
     "output_type": "execute_result"
    }
   ],
   "source": [
    "customer_address.isnull().sum()"
   ]
  },
  {
   "cell_type": "code",
   "execution_count": 61,
   "id": "38b4512e-d39b-4e18-ad38-11e8bca29ae6",
   "metadata": {
    "pycharm": {
     "name": "#%%\n"
    }
   },
   "outputs": [
    {
     "data": {
      "text/plain": "0"
     },
     "execution_count": 61,
     "metadata": {},
     "output_type": "execute_result"
    }
   ],
   "source": [
    "customer_address.duplicated().sum()"
   ]
  },
  {
   "cell_type": "code",
   "execution_count": 62,
   "id": "f626c97e-dcd8-4321-b333-aeb60c5a8dd0",
   "metadata": {
    "pycharm": {
     "name": "#%%\n"
    }
   },
   "outputs": [
    {
     "data": {
      "text/plain": "customer_id           3999\naddress               3996\npostcode               873\nstate                    5\ncountry                  1\nproperty_valuation      12\ndtype: int64"
     },
     "execution_count": 62,
     "metadata": {},
     "output_type": "execute_result"
    }
   ],
   "source": [
    "customer_address.nunique()"
   ]
  },
  {
   "cell_type": "code",
   "execution_count": 63,
   "id": "aaa2eef1-3dec-4639-a954-f8e17a573c8f",
   "metadata": {
    "pycharm": {
     "name": "#%%\n"
    }
   },
   "outputs": [
    {
     "data": {
      "text/plain": "Index(['customer_id', 'address', 'postcode', 'state', 'country',\n       'property_valuation'],\n      dtype='object')"
     },
     "execution_count": 63,
     "metadata": {},
     "output_type": "execute_result"
    }
   ],
   "source": [
    "customer_address.columns"
   ]
  },
  {
   "cell_type": "code",
   "execution_count": 64,
   "id": "cf34d3bb-a30a-45c0-8cb4-5f8f90154e04",
   "metadata": {
    "pycharm": {
     "name": "#%%\n"
    }
   },
   "outputs": [
    {
     "data": {
      "text/plain": "NSW                2054\nVIC                 939\nQLD                 838\nNew South Wales      86\nVictoria             82\nName: state, dtype: int64"
     },
     "execution_count": 64,
     "metadata": {},
     "output_type": "execute_result"
    }
   ],
   "source": [
    "customer_address[\"state\"].value_counts()"
   ]
  },
  {
   "cell_type": "code",
   "execution_count": 65,
   "id": "88f29f55-5595-4d6d-8be3-1e432cbbd0cc",
   "metadata": {
    "pycharm": {
     "name": "#%%\n"
    }
   },
   "outputs": [],
   "source": [
    "customer_address[\"state\"] = customer_address[\"state\"].replace(\"New South Wales\", \"NSW\").replace(\"Victoria\", \"VIC\")"
   ]
  },
  {
   "cell_type": "code",
   "execution_count": 66,
   "id": "d54eeab0-1b57-439f-bade-89c3adda09ab",
   "metadata": {
    "pycharm": {
     "name": "#%%\n"
    }
   },
   "outputs": [
    {
     "data": {
      "text/plain": "NSW    2140\nVIC    1021\nQLD     838\nName: state, dtype: int64"
     },
     "execution_count": 66,
     "metadata": {},
     "output_type": "execute_result"
    }
   ],
   "source": [
    "customer_address[\"state\"].value_counts()"
   ]
  },
  {
   "cell_type": "code",
   "execution_count": 67,
   "id": "be2987fd-a86c-4073-a699-5daab25dac1a",
   "metadata": {
    "pycharm": {
     "name": "#%%\n"
    }
   },
   "outputs": [
    {
     "data": {
      "text/plain": "Australia    3999\nName: country, dtype: int64"
     },
     "execution_count": 67,
     "metadata": {},
     "output_type": "execute_result"
    }
   ],
   "source": [
    "customer_address[\"country\"].value_counts()"
   ]
  },
  {
   "cell_type": "code",
   "execution_count": 68,
   "id": "09bc4d9b-b1da-4180-9e2b-d0a68d301610",
   "metadata": {
    "pycharm": {
     "name": "#%%\n"
    }
   },
   "outputs": [
    {
     "data": {
      "text/plain": "9     647\n8     646\n10    577\n7     493\n11    281\n6     238\n5     225\n4     214\n12    195\n3     186\n1     154\n2     143\nName: property_valuation, dtype: int64"
     },
     "execution_count": 68,
     "metadata": {},
     "output_type": "execute_result"
    }
   ],
   "source": [
    "customer_address[\"property_valuation\"].value_counts()"
   ]
  },
  {
   "cell_type": "code",
   "execution_count": 68,
   "id": "29255e1b-9433-44f3-815e-394489e331dc",
   "metadata": {
    "pycharm": {
     "name": "#%%\n"
    }
   },
   "outputs": [],
   "source": []
  },
  {
   "cell_type": "code",
   "execution_count": 68,
   "id": "dd00dfa5-e7b6-4b6e-91a8-7c6edd6defd0",
   "metadata": {
    "pycharm": {
     "name": "#%%\n"
    }
   },
   "outputs": [],
   "source": []
  }
 ],
 "metadata": {
  "kernelspec": {
   "display_name": "Python 3 (ipykernel)",
   "language": "python",
   "name": "python3"
  },
  "language_info": {
   "codemirror_mode": {
    "name": "ipython",
    "version": 3
   },
   "file_extension": ".py",
   "mimetype": "text/x-python",
   "name": "python",
   "nbconvert_exporter": "python",
   "pygments_lexer": "ipython3",
   "version": "3.9.12"
  }
 },
 "nbformat": 4,
 "nbformat_minor": 5
}