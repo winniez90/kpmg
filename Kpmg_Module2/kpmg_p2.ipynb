{
 "cells": [
  {
   "cell_type": "code",
   "execution_count": 1,
   "metadata": {
    "collapsed": true,
    "pycharm": {
     "name": "#%%\n"
    }
   },
   "outputs": [],
   "source": [
    "import pandas as pd\n",
    "import numpy as np\n",
    "import datetime as dt"
   ]
  },
  {
   "cell_type": "code",
   "execution_count": 3,
   "outputs": [
    {
     "data": {
      "text/plain": "   customer_id      first_name  last_name  gender   \n0            1         Laraine  Medendorp  Female  \\\n1            2             Eli    Bockman    Male   \n2            3           Arlin     Dearle    Male   \n3            4          Talbot        NaN    Male   \n4            5  Sheila-kathryn     Calton  Female   \n\n   past_3_years_bike_related_purchases                  DOB   \n0                                   93  1953-10-12 00:00:00  \\\n1                                   81  1980-12-16 00:00:00   \n2                                   61  1954-01-20 00:00:00   \n3                                   33  1961-10-03 00:00:00   \n4                                   56  1977-05-13 00:00:00   \n\n                job_title job_industry_category     wealth_segment   \n0     Executive Secretary                Health      Mass Customer  \\\n1  Administrative Officer    Financial Services      Mass Customer   \n2      Recruiting Manager              Property      Mass Customer   \n3                     NaN                    IT      Mass Customer   \n4           Senior Editor                   NaN  Affluent Customer   \n\n  deceased_indicator owns_car  tenure  \n0                  N      Yes    11.0  \n1                  N      Yes    16.0  \n2                  N      Yes    15.0  \n3                  N       No     7.0  \n4                  N      Yes     8.0  ",
      "text/html": "<div>\n<style scoped>\n    .dataframe tbody tr th:only-of-type {\n        vertical-align: middle;\n    }\n\n    .dataframe tbody tr th {\n        vertical-align: top;\n    }\n\n    .dataframe thead th {\n        text-align: right;\n    }\n</style>\n<table border=\"1\" class=\"dataframe\">\n  <thead>\n    <tr style=\"text-align: right;\">\n      <th></th>\n      <th>customer_id</th>\n      <th>first_name</th>\n      <th>last_name</th>\n      <th>gender</th>\n      <th>past_3_years_bike_related_purchases</th>\n      <th>DOB</th>\n      <th>job_title</th>\n      <th>job_industry_category</th>\n      <th>wealth_segment</th>\n      <th>deceased_indicator</th>\n      <th>owns_car</th>\n      <th>tenure</th>\n    </tr>\n  </thead>\n  <tbody>\n    <tr>\n      <th>0</th>\n      <td>1</td>\n      <td>Laraine</td>\n      <td>Medendorp</td>\n      <td>Female</td>\n      <td>93</td>\n      <td>1953-10-12 00:00:00</td>\n      <td>Executive Secretary</td>\n      <td>Health</td>\n      <td>Mass Customer</td>\n      <td>N</td>\n      <td>Yes</td>\n      <td>11.0</td>\n    </tr>\n    <tr>\n      <th>1</th>\n      <td>2</td>\n      <td>Eli</td>\n      <td>Bockman</td>\n      <td>Male</td>\n      <td>81</td>\n      <td>1980-12-16 00:00:00</td>\n      <td>Administrative Officer</td>\n      <td>Financial Services</td>\n      <td>Mass Customer</td>\n      <td>N</td>\n      <td>Yes</td>\n      <td>16.0</td>\n    </tr>\n    <tr>\n      <th>2</th>\n      <td>3</td>\n      <td>Arlin</td>\n      <td>Dearle</td>\n      <td>Male</td>\n      <td>61</td>\n      <td>1954-01-20 00:00:00</td>\n      <td>Recruiting Manager</td>\n      <td>Property</td>\n      <td>Mass Customer</td>\n      <td>N</td>\n      <td>Yes</td>\n      <td>15.0</td>\n    </tr>\n    <tr>\n      <th>3</th>\n      <td>4</td>\n      <td>Talbot</td>\n      <td>NaN</td>\n      <td>Male</td>\n      <td>33</td>\n      <td>1961-10-03 00:00:00</td>\n      <td>NaN</td>\n      <td>IT</td>\n      <td>Mass Customer</td>\n      <td>N</td>\n      <td>No</td>\n      <td>7.0</td>\n    </tr>\n    <tr>\n      <th>4</th>\n      <td>5</td>\n      <td>Sheila-kathryn</td>\n      <td>Calton</td>\n      <td>Female</td>\n      <td>56</td>\n      <td>1977-05-13 00:00:00</td>\n      <td>Senior Editor</td>\n      <td>NaN</td>\n      <td>Affluent Customer</td>\n      <td>N</td>\n      <td>Yes</td>\n      <td>8.0</td>\n    </tr>\n  </tbody>\n</table>\n</div>"
     },
     "execution_count": 2,
     "metadata": {},
     "output_type": "execute_result"
    },
    {
     "data": {
      "text/plain": "   customer_id      first_name  last_name  gender   \n0            1         Laraine  Medendorp  Female  \\\n1            2             Eli    Bockman    Male   \n2            3           Arlin     Dearle    Male   \n3            4          Talbot        NaN    Male   \n4            5  Sheila-kathryn     Calton  Female   \n\n   past_3_years_bike_related_purchases                  DOB   \n0                                   93  1953-10-12 00:00:00  \\\n1                                   81  1980-12-16 00:00:00   \n2                                   61  1954-01-20 00:00:00   \n3                                   33  1961-10-03 00:00:00   \n4                                   56  1977-05-13 00:00:00   \n\n                job_title job_industry_category     wealth_segment   \n0     Executive Secretary                Health      Mass Customer  \\\n1  Administrative Officer    Financial Services      Mass Customer   \n2      Recruiting Manager              Property      Mass Customer   \n3                     NaN                    IT      Mass Customer   \n4           Senior Editor                   NaN  Affluent Customer   \n\n  deceased_indicator owns_car  tenure  \n0                  N      Yes    11.0  \n1                  N      Yes    16.0  \n2                  N      Yes    15.0  \n3                  N       No     7.0  \n4                  N      Yes     8.0  ",
      "text/html": "<div>\n<style scoped>\n    .dataframe tbody tr th:only-of-type {\n        vertical-align: middle;\n    }\n\n    .dataframe tbody tr th {\n        vertical-align: top;\n    }\n\n    .dataframe thead th {\n        text-align: right;\n    }\n</style>\n<table border=\"1\" class=\"dataframe\">\n  <thead>\n    <tr style=\"text-align: right;\">\n      <th></th>\n      <th>customer_id</th>\n      <th>first_name</th>\n      <th>last_name</th>\n      <th>gender</th>\n      <th>past_3_years_bike_related_purchases</th>\n      <th>DOB</th>\n      <th>job_title</th>\n      <th>job_industry_category</th>\n      <th>wealth_segment</th>\n      <th>deceased_indicator</th>\n      <th>owns_car</th>\n      <th>tenure</th>\n    </tr>\n  </thead>\n  <tbody>\n    <tr>\n      <th>0</th>\n      <td>1</td>\n      <td>Laraine</td>\n      <td>Medendorp</td>\n      <td>Female</td>\n      <td>93</td>\n      <td>1953-10-12 00:00:00</td>\n      <td>Executive Secretary</td>\n      <td>Health</td>\n      <td>Mass Customer</td>\n      <td>N</td>\n      <td>Yes</td>\n      <td>11.0</td>\n    </tr>\n    <tr>\n      <th>1</th>\n      <td>2</td>\n      <td>Eli</td>\n      <td>Bockman</td>\n      <td>Male</td>\n      <td>81</td>\n      <td>1980-12-16 00:00:00</td>\n      <td>Administrative Officer</td>\n      <td>Financial Services</td>\n      <td>Mass Customer</td>\n      <td>N</td>\n      <td>Yes</td>\n      <td>16.0</td>\n    </tr>\n    <tr>\n      <th>2</th>\n      <td>3</td>\n      <td>Arlin</td>\n      <td>Dearle</td>\n      <td>Male</td>\n      <td>61</td>\n      <td>1954-01-20 00:00:00</td>\n      <td>Recruiting Manager</td>\n      <td>Property</td>\n      <td>Mass Customer</td>\n      <td>N</td>\n      <td>Yes</td>\n      <td>15.0</td>\n    </tr>\n    <tr>\n      <th>3</th>\n      <td>4</td>\n      <td>Talbot</td>\n      <td>NaN</td>\n      <td>Male</td>\n      <td>33</td>\n      <td>1961-10-03 00:00:00</td>\n      <td>NaN</td>\n      <td>IT</td>\n      <td>Mass Customer</td>\n      <td>N</td>\n      <td>No</td>\n      <td>7.0</td>\n    </tr>\n    <tr>\n      <th>4</th>\n      <td>5</td>\n      <td>Sheila-kathryn</td>\n      <td>Calton</td>\n      <td>Female</td>\n      <td>56</td>\n      <td>1977-05-13 00:00:00</td>\n      <td>Senior Editor</td>\n      <td>NaN</td>\n      <td>Affluent Customer</td>\n      <td>N</td>\n      <td>Yes</td>\n      <td>8.0</td>\n    </tr>\n  </tbody>\n</table>\n</div>"
     },
     "execution_count": 3,
     "metadata": {},
     "output_type": "execute_result"
    }
   ],
   "source": [
    "section2 = pd.read_csv(\"../Shared/CustomerDemographic.csv\",index_col=0)\n",
    "section2.head()"
   ],
   "metadata": {
    "collapsed": false,
    "pycharm": {
     "name": "#%%\n"
    }
   }
  },
  {
   "cell_type": "code",
   "execution_count": 6,
   "outputs": [
    {
     "data": {
      "text/plain": "   customer_id  gender  past_3_years_bike_related_purchases   \n0            1  Female                                   93  \\\n1            2    Male                                   81   \n2            3    Male                                   61   \n3            4    Male                                   33   \n4            5  Female                                   56   \n\n                   DOB job_industry_category     wealth_segment   \n0  1953-10-12 00:00:00                Health      Mass Customer  \\\n1  1980-12-16 00:00:00    Financial Services      Mass Customer   \n2  1954-01-20 00:00:00              Property      Mass Customer   \n3  1961-10-03 00:00:00                    IT      Mass Customer   \n4  1977-05-13 00:00:00                   NaN  Affluent Customer   \n\n   deceased_indicator owns_car  tenure  \n0                   0      Yes    11.0  \n1                   0      Yes    16.0  \n2                   0      Yes    15.0  \n3                   0       No     7.0  \n4                   0      Yes     8.0  ",
      "text/html": "<div>\n<style scoped>\n    .dataframe tbody tr th:only-of-type {\n        vertical-align: middle;\n    }\n\n    .dataframe tbody tr th {\n        vertical-align: top;\n    }\n\n    .dataframe thead th {\n        text-align: right;\n    }\n</style>\n<table border=\"1\" class=\"dataframe\">\n  <thead>\n    <tr style=\"text-align: right;\">\n      <th></th>\n      <th>customer_id</th>\n      <th>gender</th>\n      <th>past_3_years_bike_related_purchases</th>\n      <th>DOB</th>\n      <th>job_industry_category</th>\n      <th>wealth_segment</th>\n      <th>deceased_indicator</th>\n      <th>owns_car</th>\n      <th>tenure</th>\n    </tr>\n  </thead>\n  <tbody>\n    <tr>\n      <th>0</th>\n      <td>1</td>\n      <td>Female</td>\n      <td>93</td>\n      <td>1953-10-12 00:00:00</td>\n      <td>Health</td>\n      <td>Mass Customer</td>\n      <td>0</td>\n      <td>Yes</td>\n      <td>11.0</td>\n    </tr>\n    <tr>\n      <th>1</th>\n      <td>2</td>\n      <td>Male</td>\n      <td>81</td>\n      <td>1980-12-16 00:00:00</td>\n      <td>Financial Services</td>\n      <td>Mass Customer</td>\n      <td>0</td>\n      <td>Yes</td>\n      <td>16.0</td>\n    </tr>\n    <tr>\n      <th>2</th>\n      <td>3</td>\n      <td>Male</td>\n      <td>61</td>\n      <td>1954-01-20 00:00:00</td>\n      <td>Property</td>\n      <td>Mass Customer</td>\n      <td>0</td>\n      <td>Yes</td>\n      <td>15.0</td>\n    </tr>\n    <tr>\n      <th>3</th>\n      <td>4</td>\n      <td>Male</td>\n      <td>33</td>\n      <td>1961-10-03 00:00:00</td>\n      <td>IT</td>\n      <td>Mass Customer</td>\n      <td>0</td>\n      <td>No</td>\n      <td>7.0</td>\n    </tr>\n    <tr>\n      <th>4</th>\n      <td>5</td>\n      <td>Female</td>\n      <td>56</td>\n      <td>1977-05-13 00:00:00</td>\n      <td>NaN</td>\n      <td>Affluent Customer</td>\n      <td>0</td>\n      <td>Yes</td>\n      <td>8.0</td>\n    </tr>\n  </tbody>\n</table>\n</div>"
     },
     "execution_count": 6,
     "metadata": {},
     "output_type": "execute_result"
    }
   ],
   "source": [
    "section2['gender'].replace('U', 'Unknown', inplace=True)\n",
    "section2['deceased_indicator'].replace('N', 0, inplace=True)\n",
    "section2['deceased_indicator'].replace('Y', 1, inplace=True)\n",
    "section2.head()"
   ],
   "metadata": {
    "collapsed": false,
    "pycharm": {
     "name": "#%%\n"
    }
   }
  },
  {
   "cell_type": "code",
   "execution_count": 7,
   "outputs": [
    {
     "data": {
      "text/plain": "   customer_id  gender  past_3_years_bike_related_purchases   \n0            1  Female                                   93  \\\n1            2    Male                                   81   \n2            3    Male                                   61   \n3            4    Male                                   33   \n5            6    Male                                   35   \n\n                   DOB job_industry_category  wealth_segment owns_car  tenure  \n0  1953-10-12 00:00:00                Health   Mass Customer      Yes    11.0  \n1  1980-12-16 00:00:00    Financial Services   Mass Customer      Yes    16.0  \n2  1954-01-20 00:00:00              Property   Mass Customer      Yes    15.0  \n3  1961-10-03 00:00:00                    IT   Mass Customer       No     7.0  \n5  1966-09-16 00:00:00                Retail  High Net Worth      Yes    13.0  ",
      "text/html": "<div>\n<style scoped>\n    .dataframe tbody tr th:only-of-type {\n        vertical-align: middle;\n    }\n\n    .dataframe tbody tr th {\n        vertical-align: top;\n    }\n\n    .dataframe thead th {\n        text-align: right;\n    }\n</style>\n<table border=\"1\" class=\"dataframe\">\n  <thead>\n    <tr style=\"text-align: right;\">\n      <th></th>\n      <th>customer_id</th>\n      <th>gender</th>\n      <th>past_3_years_bike_related_purchases</th>\n      <th>DOB</th>\n      <th>job_industry_category</th>\n      <th>wealth_segment</th>\n      <th>owns_car</th>\n      <th>tenure</th>\n    </tr>\n  </thead>\n  <tbody>\n    <tr>\n      <th>0</th>\n      <td>1</td>\n      <td>Female</td>\n      <td>93</td>\n      <td>1953-10-12 00:00:00</td>\n      <td>Health</td>\n      <td>Mass Customer</td>\n      <td>Yes</td>\n      <td>11.0</td>\n    </tr>\n    <tr>\n      <th>1</th>\n      <td>2</td>\n      <td>Male</td>\n      <td>81</td>\n      <td>1980-12-16 00:00:00</td>\n      <td>Financial Services</td>\n      <td>Mass Customer</td>\n      <td>Yes</td>\n      <td>16.0</td>\n    </tr>\n    <tr>\n      <th>2</th>\n      <td>3</td>\n      <td>Male</td>\n      <td>61</td>\n      <td>1954-01-20 00:00:00</td>\n      <td>Property</td>\n      <td>Mass Customer</td>\n      <td>Yes</td>\n      <td>15.0</td>\n    </tr>\n    <tr>\n      <th>3</th>\n      <td>4</td>\n      <td>Male</td>\n      <td>33</td>\n      <td>1961-10-03 00:00:00</td>\n      <td>IT</td>\n      <td>Mass Customer</td>\n      <td>No</td>\n      <td>7.0</td>\n    </tr>\n    <tr>\n      <th>5</th>\n      <td>6</td>\n      <td>Male</td>\n      <td>35</td>\n      <td>1966-09-16 00:00:00</td>\n      <td>Retail</td>\n      <td>High Net Worth</td>\n      <td>Yes</td>\n      <td>13.0</td>\n    </tr>\n  </tbody>\n</table>\n</div>"
     },
     "execution_count": 7,
     "metadata": {},
     "output_type": "execute_result"
    }
   ],
   "source": [
    "section2 = section2[section2['deceased_indicator'] == 0]\n",
    "section2 =section2.drop(['deceased_indicator'], axis=1)\n",
    "section2_clean = section2.dropna()\n",
    "section2_clean.head()"
   ],
   "metadata": {
    "collapsed": false,
    "pycharm": {
     "name": "#%%\n"
    }
   }
  },
  {
   "cell_type": "code",
   "execution_count": 8,
   "outputs": [
    {
     "name": "stderr",
     "output_type": "stream",
     "text": [
      "/var/folders/02/jwkk2z4x0wv1vqp9p47gjgdw0000gn/T/ipykernel_38768/1731912562.py:1: SettingWithCopyWarning: \n",
      "A value is trying to be set on a copy of a slice from a DataFrame\n",
      "\n",
      "See the caveats in the documentation: https://pandas.pydata.org/pandas-docs/stable/user_guide/indexing.html#returning-a-view-versus-a-copy\n",
      "  section2_clean['owns_car'].replace('Yes', 1, inplace=True)\n",
      "/var/folders/02/jwkk2z4x0wv1vqp9p47gjgdw0000gn/T/ipykernel_38768/1731912562.py:2: SettingWithCopyWarning: \n",
      "A value is trying to be set on a copy of a slice from a DataFrame\n",
      "\n",
      "See the caveats in the documentation: https://pandas.pydata.org/pandas-docs/stable/user_guide/indexing.html#returning-a-view-versus-a-copy\n",
      "  section2_clean['owns_car'].replace('No', 0, inplace=True)\n"
     ]
    },
    {
     "data": {
      "text/plain": "   customer_id  gender  past_3_years_bike_related_purchases   \n0            1  Female                                   93  \\\n1            2    Male                                   81   \n2            3    Male                                   61   \n3            4    Male                                   33   \n5            6    Male                                   35   \n\n                   DOB job_industry_category  wealth_segment  owns_car  tenure  \n0  1953-10-12 00:00:00                Health   Mass Customer         1    11.0  \n1  1980-12-16 00:00:00    Financial Services   Mass Customer         1    16.0  \n2  1954-01-20 00:00:00              Property   Mass Customer         1    15.0  \n3  1961-10-03 00:00:00                    IT   Mass Customer         0     7.0  \n5  1966-09-16 00:00:00                Retail  High Net Worth         1    13.0  ",
      "text/html": "<div>\n<style scoped>\n    .dataframe tbody tr th:only-of-type {\n        vertical-align: middle;\n    }\n\n    .dataframe tbody tr th {\n        vertical-align: top;\n    }\n\n    .dataframe thead th {\n        text-align: right;\n    }\n</style>\n<table border=\"1\" class=\"dataframe\">\n  <thead>\n    <tr style=\"text-align: right;\">\n      <th></th>\n      <th>customer_id</th>\n      <th>gender</th>\n      <th>past_3_years_bike_related_purchases</th>\n      <th>DOB</th>\n      <th>job_industry_category</th>\n      <th>wealth_segment</th>\n      <th>owns_car</th>\n      <th>tenure</th>\n    </tr>\n  </thead>\n  <tbody>\n    <tr>\n      <th>0</th>\n      <td>1</td>\n      <td>Female</td>\n      <td>93</td>\n      <td>1953-10-12 00:00:00</td>\n      <td>Health</td>\n      <td>Mass Customer</td>\n      <td>1</td>\n      <td>11.0</td>\n    </tr>\n    <tr>\n      <th>1</th>\n      <td>2</td>\n      <td>Male</td>\n      <td>81</td>\n      <td>1980-12-16 00:00:00</td>\n      <td>Financial Services</td>\n      <td>Mass Customer</td>\n      <td>1</td>\n      <td>16.0</td>\n    </tr>\n    <tr>\n      <th>2</th>\n      <td>3</td>\n      <td>Male</td>\n      <td>61</td>\n      <td>1954-01-20 00:00:00</td>\n      <td>Property</td>\n      <td>Mass Customer</td>\n      <td>1</td>\n      <td>15.0</td>\n    </tr>\n    <tr>\n      <th>3</th>\n      <td>4</td>\n      <td>Male</td>\n      <td>33</td>\n      <td>1961-10-03 00:00:00</td>\n      <td>IT</td>\n      <td>Mass Customer</td>\n      <td>0</td>\n      <td>7.0</td>\n    </tr>\n    <tr>\n      <th>5</th>\n      <td>6</td>\n      <td>Male</td>\n      <td>35</td>\n      <td>1966-09-16 00:00:00</td>\n      <td>Retail</td>\n      <td>High Net Worth</td>\n      <td>1</td>\n      <td>13.0</td>\n    </tr>\n  </tbody>\n</table>\n</div>"
     },
     "execution_count": 8,
     "metadata": {},
     "output_type": "execute_result"
    }
   ],
   "source": [
    "section2_clean['owns_car'].replace('Yes', 1, inplace=True)\n",
    "section2_clean['owns_car'].replace('No', 0, inplace=True)\n",
    "section2_clean = section2_clean[section2_clean['DOB'] != section2_clean.DOB.min()]\n",
    "section2_clean.head()"
   ],
   "metadata": {
    "collapsed": false,
    "pycharm": {
     "name": "#%%\n"
    }
   }
  },
  {
   "cell_type": "code",
   "execution_count": 9,
   "outputs": [
    {
     "data": {
      "text/plain": "   customer_id  gender  past_3_years_bike_related_purchases        DOB   \n0            1  Female                                   93 1953-10-12  \\\n1            2    Male                                   81 1980-12-16   \n2            3    Male                                   61 1954-01-20   \n3            4    Male                                   33 1961-10-03   \n5            6    Male                                   35 1966-09-16   \n\n  job_industry_category  wealth_segment  owns_car  tenure        age   \n0                Health   Mass Customer         1    11.0  69.585374  \\\n1    Financial Services   Mass Customer         1    16.0  42.388114   \n2              Property   Mass Customer         1    15.0  69.311401   \n3                    IT   Mass Customer         0     7.0  61.604552   \n5                Retail  High Net Worth         1    13.0  56.648388   \n\n   age_class  \n0         70  \n1         40  \n2         70  \n3         60  \n5         60  ",
      "text/html": "<div>\n<style scoped>\n    .dataframe tbody tr th:only-of-type {\n        vertical-align: middle;\n    }\n\n    .dataframe tbody tr th {\n        vertical-align: top;\n    }\n\n    .dataframe thead th {\n        text-align: right;\n    }\n</style>\n<table border=\"1\" class=\"dataframe\">\n  <thead>\n    <tr style=\"text-align: right;\">\n      <th></th>\n      <th>customer_id</th>\n      <th>gender</th>\n      <th>past_3_years_bike_related_purchases</th>\n      <th>DOB</th>\n      <th>job_industry_category</th>\n      <th>wealth_segment</th>\n      <th>owns_car</th>\n      <th>tenure</th>\n      <th>age</th>\n      <th>age_class</th>\n    </tr>\n  </thead>\n  <tbody>\n    <tr>\n      <th>0</th>\n      <td>1</td>\n      <td>Female</td>\n      <td>93</td>\n      <td>1953-10-12</td>\n      <td>Health</td>\n      <td>Mass Customer</td>\n      <td>1</td>\n      <td>11.0</td>\n      <td>69.585374</td>\n      <td>70</td>\n    </tr>\n    <tr>\n      <th>1</th>\n      <td>2</td>\n      <td>Male</td>\n      <td>81</td>\n      <td>1980-12-16</td>\n      <td>Financial Services</td>\n      <td>Mass Customer</td>\n      <td>1</td>\n      <td>16.0</td>\n      <td>42.388114</td>\n      <td>40</td>\n    </tr>\n    <tr>\n      <th>2</th>\n      <td>3</td>\n      <td>Male</td>\n      <td>61</td>\n      <td>1954-01-20</td>\n      <td>Property</td>\n      <td>Mass Customer</td>\n      <td>1</td>\n      <td>15.0</td>\n      <td>69.311401</td>\n      <td>70</td>\n    </tr>\n    <tr>\n      <th>3</th>\n      <td>4</td>\n      <td>Male</td>\n      <td>33</td>\n      <td>1961-10-03</td>\n      <td>IT</td>\n      <td>Mass Customer</td>\n      <td>0</td>\n      <td>7.0</td>\n      <td>61.604552</td>\n      <td>60</td>\n    </tr>\n    <tr>\n      <th>5</th>\n      <td>6</td>\n      <td>Male</td>\n      <td>35</td>\n      <td>1966-09-16</td>\n      <td>Retail</td>\n      <td>High Net Worth</td>\n      <td>1</td>\n      <td>13.0</td>\n      <td>56.648388</td>\n      <td>60</td>\n    </tr>\n  </tbody>\n</table>\n</div>"
     },
     "execution_count": 9,
     "metadata": {},
     "output_type": "execute_result"
    }
   ],
   "source": [
    "section2_clean['DOB'] = pd.to_datetime(section2_clean['DOB'])\n",
    "section2_clean['age'] = (dt.datetime.now()-section2_clean['DOB'])/np.timedelta64(1, 'Y')\n",
    "section2_clean['age_class'] = ((round(section2_clean['age'] / 10) *10)).astype(int)\n",
    "section2_clean.head()"
   ],
   "metadata": {
    "collapsed": false,
    "pycharm": {
     "name": "#%%\n"
    }
   }
  },
  {
   "cell_type": "code",
   "execution_count": 10,
   "outputs": [
    {
     "data": {
      "text/plain": "   customer_id              address  postcode state    country   \n0            1   060 Morning Avenue      2016   NSW  Australia  \\\n1            2  6 Meadow Vale Court      2153   NSW  Australia   \n2            4   0 Holy Cross Court      4211   QLD  Australia   \n3            5  17979 Del Mar Point      2448   NSW  Australia   \n4            6     9 Oakridge Court      3216   VIC  Australia   \n\n   property_valuation  \n0                  10  \n1                  10  \n2                   9  \n3                   4  \n4                   9  ",
      "text/html": "<div>\n<style scoped>\n    .dataframe tbody tr th:only-of-type {\n        vertical-align: middle;\n    }\n\n    .dataframe tbody tr th {\n        vertical-align: top;\n    }\n\n    .dataframe thead th {\n        text-align: right;\n    }\n</style>\n<table border=\"1\" class=\"dataframe\">\n  <thead>\n    <tr style=\"text-align: right;\">\n      <th></th>\n      <th>customer_id</th>\n      <th>address</th>\n      <th>postcode</th>\n      <th>state</th>\n      <th>country</th>\n      <th>property_valuation</th>\n    </tr>\n  </thead>\n  <tbody>\n    <tr>\n      <th>0</th>\n      <td>1</td>\n      <td>060 Morning Avenue</td>\n      <td>2016</td>\n      <td>NSW</td>\n      <td>Australia</td>\n      <td>10</td>\n    </tr>\n    <tr>\n      <th>1</th>\n      <td>2</td>\n      <td>6 Meadow Vale Court</td>\n      <td>2153</td>\n      <td>NSW</td>\n      <td>Australia</td>\n      <td>10</td>\n    </tr>\n    <tr>\n      <th>2</th>\n      <td>4</td>\n      <td>0 Holy Cross Court</td>\n      <td>4211</td>\n      <td>QLD</td>\n      <td>Australia</td>\n      <td>9</td>\n    </tr>\n    <tr>\n      <th>3</th>\n      <td>5</td>\n      <td>17979 Del Mar Point</td>\n      <td>2448</td>\n      <td>NSW</td>\n      <td>Australia</td>\n      <td>4</td>\n    </tr>\n    <tr>\n      <th>4</th>\n      <td>6</td>\n      <td>9 Oakridge Court</td>\n      <td>3216</td>\n      <td>VIC</td>\n      <td>Australia</td>\n      <td>9</td>\n    </tr>\n  </tbody>\n</table>\n</div>"
     },
     "execution_count": 10,
     "metadata": {},
     "output_type": "execute_result"
    }
   ],
   "source": [
    "address = pd.read_csv(\"../Shared/CustomerAddress.csv\", index_col=0)\n",
    "address.head()"
   ],
   "metadata": {
    "collapsed": false,
    "pycharm": {
     "name": "#%%\n"
    }
   }
  },
  {
   "cell_type": "code",
   "execution_count": 11,
   "outputs": [
    {
     "data": {
      "text/plain": "   customer_id              address  postcode state    country   \n0            1   060 Morning Avenue      2016   NSW  Australia  \\\n1            2  6 Meadow Vale Court      2153   NSW  Australia   \n2            4   0 Holy Cross Court      4211   QLD  Australia   \n3            5  17979 Del Mar Point      2448   NSW  Australia   \n4            6     9 Oakridge Court      3216   VIC  Australia   \n\n   property_valuation  \n0                  10  \n1                  10  \n2                   9  \n3                   4  \n4                   9  ",
      "text/html": "<div>\n<style scoped>\n    .dataframe tbody tr th:only-of-type {\n        vertical-align: middle;\n    }\n\n    .dataframe tbody tr th {\n        vertical-align: top;\n    }\n\n    .dataframe thead th {\n        text-align: right;\n    }\n</style>\n<table border=\"1\" class=\"dataframe\">\n  <thead>\n    <tr style=\"text-align: right;\">\n      <th></th>\n      <th>customer_id</th>\n      <th>address</th>\n      <th>postcode</th>\n      <th>state</th>\n      <th>country</th>\n      <th>property_valuation</th>\n    </tr>\n  </thead>\n  <tbody>\n    <tr>\n      <th>0</th>\n      <td>1</td>\n      <td>060 Morning Avenue</td>\n      <td>2016</td>\n      <td>NSW</td>\n      <td>Australia</td>\n      <td>10</td>\n    </tr>\n    <tr>\n      <th>1</th>\n      <td>2</td>\n      <td>6 Meadow Vale Court</td>\n      <td>2153</td>\n      <td>NSW</td>\n      <td>Australia</td>\n      <td>10</td>\n    </tr>\n    <tr>\n      <th>2</th>\n      <td>4</td>\n      <td>0 Holy Cross Court</td>\n      <td>4211</td>\n      <td>QLD</td>\n      <td>Australia</td>\n      <td>9</td>\n    </tr>\n    <tr>\n      <th>3</th>\n      <td>5</td>\n      <td>17979 Del Mar Point</td>\n      <td>2448</td>\n      <td>NSW</td>\n      <td>Australia</td>\n      <td>4</td>\n    </tr>\n    <tr>\n      <th>4</th>\n      <td>6</td>\n      <td>9 Oakridge Court</td>\n      <td>3216</td>\n      <td>VIC</td>\n      <td>Australia</td>\n      <td>9</td>\n    </tr>\n  </tbody>\n</table>\n</div>"
     },
     "execution_count": 11,
     "metadata": {},
     "output_type": "execute_result"
    }
   ],
   "source": [
    "address_clean = address.dropna()\n",
    "address.head()"
   ],
   "metadata": {
    "collapsed": false,
    "pycharm": {
     "name": "#%%\n"
    }
   }
  },
  {
   "cell_type": "code",
   "execution_count": 12,
   "outputs": [
    {
     "name": "stdout",
     "output_type": "stream",
     "text": [
      "<class 'pandas.core.frame.DataFrame'>\n",
      "Index: 3999 entries, 0 to 3998\n",
      "Data columns (total 6 columns):\n",
      " #   Column              Non-Null Count  Dtype \n",
      "---  ------              --------------  ----- \n",
      " 0   customer_id         3999 non-null   int64 \n",
      " 1   address             3999 non-null   object\n",
      " 2   postcode            3999 non-null   int64 \n",
      " 3   state               3999 non-null   object\n",
      " 4   country             3999 non-null   object\n",
      " 5   property_valuation  3999 non-null   int64 \n",
      "dtypes: int64(3), object(3)\n",
      "memory usage: 218.7+ KB\n"
     ]
    }
   ],
   "source": [
    "address.info()"
   ],
   "metadata": {
    "collapsed": false,
    "pycharm": {
     "name": "#%%\n"
    }
   }
  },
  {
   "cell_type": "code",
   "execution_count": 13,
   "outputs": [
    {
     "data": {
      "text/plain": "   customer_id_x  gender  past_3_years_bike_related_purchases        DOB   \n0              1  Female                                   93 1953-10-12  \\\n1              2    Male                                   81 1980-12-16   \n2              3    Male                                   61 1954-01-20   \n3              4    Male                                   33 1961-10-03   \n5              6    Male                                   35 1966-09-16   \n\n  job_industry_category  wealth_segment  owns_car  tenure        age   \n0                Health   Mass Customer         1    11.0  69.585374  \\\n1    Financial Services   Mass Customer         1    16.0  42.388114   \n2              Property   Mass Customer         1    15.0  69.311401   \n3                    IT   Mass Customer         0     7.0  61.604552   \n5                Retail  High Net Worth         1    13.0  56.648388   \n\n   age_class  customer_id_y              address  postcode state    country   \n0         70              1   060 Morning Avenue      2016   NSW  Australia  \\\n1         40              2  6 Meadow Vale Court      2153   NSW  Australia   \n2         70              4   0 Holy Cross Court      4211   QLD  Australia   \n3         60              5  17979 Del Mar Point      2448   NSW  Australia   \n5         60              7     4 Delaware Trail      2210   NSW  Australia   \n\n   property_valuation  \n0                  10  \n1                  10  \n2                   9  \n3                   4  \n5                   9  ",
      "text/html": "<div>\n<style scoped>\n    .dataframe tbody tr th:only-of-type {\n        vertical-align: middle;\n    }\n\n    .dataframe tbody tr th {\n        vertical-align: top;\n    }\n\n    .dataframe thead th {\n        text-align: right;\n    }\n</style>\n<table border=\"1\" class=\"dataframe\">\n  <thead>\n    <tr style=\"text-align: right;\">\n      <th></th>\n      <th>customer_id_x</th>\n      <th>gender</th>\n      <th>past_3_years_bike_related_purchases</th>\n      <th>DOB</th>\n      <th>job_industry_category</th>\n      <th>wealth_segment</th>\n      <th>owns_car</th>\n      <th>tenure</th>\n      <th>age</th>\n      <th>age_class</th>\n      <th>customer_id_y</th>\n      <th>address</th>\n      <th>postcode</th>\n      <th>state</th>\n      <th>country</th>\n      <th>property_valuation</th>\n    </tr>\n  </thead>\n  <tbody>\n    <tr>\n      <th>0</th>\n      <td>1</td>\n      <td>Female</td>\n      <td>93</td>\n      <td>1953-10-12</td>\n      <td>Health</td>\n      <td>Mass Customer</td>\n      <td>1</td>\n      <td>11.0</td>\n      <td>69.585374</td>\n      <td>70</td>\n      <td>1</td>\n      <td>060 Morning Avenue</td>\n      <td>2016</td>\n      <td>NSW</td>\n      <td>Australia</td>\n      <td>10</td>\n    </tr>\n    <tr>\n      <th>1</th>\n      <td>2</td>\n      <td>Male</td>\n      <td>81</td>\n      <td>1980-12-16</td>\n      <td>Financial Services</td>\n      <td>Mass Customer</td>\n      <td>1</td>\n      <td>16.0</td>\n      <td>42.388114</td>\n      <td>40</td>\n      <td>2</td>\n      <td>6 Meadow Vale Court</td>\n      <td>2153</td>\n      <td>NSW</td>\n      <td>Australia</td>\n      <td>10</td>\n    </tr>\n    <tr>\n      <th>2</th>\n      <td>3</td>\n      <td>Male</td>\n      <td>61</td>\n      <td>1954-01-20</td>\n      <td>Property</td>\n      <td>Mass Customer</td>\n      <td>1</td>\n      <td>15.0</td>\n      <td>69.311401</td>\n      <td>70</td>\n      <td>4</td>\n      <td>0 Holy Cross Court</td>\n      <td>4211</td>\n      <td>QLD</td>\n      <td>Australia</td>\n      <td>9</td>\n    </tr>\n    <tr>\n      <th>3</th>\n      <td>4</td>\n      <td>Male</td>\n      <td>33</td>\n      <td>1961-10-03</td>\n      <td>IT</td>\n      <td>Mass Customer</td>\n      <td>0</td>\n      <td>7.0</td>\n      <td>61.604552</td>\n      <td>60</td>\n      <td>5</td>\n      <td>17979 Del Mar Point</td>\n      <td>2448</td>\n      <td>NSW</td>\n      <td>Australia</td>\n      <td>4</td>\n    </tr>\n    <tr>\n      <th>5</th>\n      <td>6</td>\n      <td>Male</td>\n      <td>35</td>\n      <td>1966-09-16</td>\n      <td>Retail</td>\n      <td>High Net Worth</td>\n      <td>1</td>\n      <td>13.0</td>\n      <td>56.648388</td>\n      <td>60</td>\n      <td>7</td>\n      <td>4 Delaware Trail</td>\n      <td>2210</td>\n      <td>NSW</td>\n      <td>Australia</td>\n      <td>9</td>\n    </tr>\n  </tbody>\n</table>\n</div>"
     },
     "execution_count": 13,
     "metadata": {},
     "output_type": "execute_result"
    }
   ],
   "source": [
    "section3 = pd.merge(section2_clean, address_clean, left_index=True, right_index=True)\n",
    "section3 = section3.dropna()\n",
    "section3.head()"
   ],
   "metadata": {
    "collapsed": false,
    "pycharm": {
     "name": "#%%\n"
    }
   }
  },
  {
   "cell_type": "code",
   "execution_count": 14,
   "outputs": [
    {
     "data": {
      "text/plain": "                product_id  customer_id transaction_date  online_order   \ntransaction_id                                                           \n14486                   23            1       2017-03-27           0.0  \\\n18970                   11            1       2017-03-29           1.0   \n16423                    9            1       2017-12-09           1.0   \n5157                    47            1       2017-05-11           1.0   \n13424                    2            1       2017-02-21           0.0   \n\n               order_status           brand product_line product_class   \ntransaction_id                                                           \n14486              Approved  Norco Bicycles     Mountain           low  \\\n18970              Approved  Giant Bicycles     Standard          high   \n16423              Approved      OHM Cycles         Road        medium   \n5157               Approved   Trek Bicycles         Road           low   \n13424              Approved           Solex     Standard        medium   \n\n               product_size  list_price  standard_cost   \ntransaction_id                                           \n14486                 small      688.63         612.88  \\\n18970                medium     1274.93         764.96   \n16423                medium      742.54         667.40   \n5157                  small     1720.70        1531.42   \n13424                medium       71.49          53.62   \n\n                product_first_sold_date  \ntransaction_id                           \n14486                           33455.0  \n18970                           35378.0  \n16423                           37838.0  \n5157                            37823.0  \n13424                           38573.0  ",
      "text/html": "<div>\n<style scoped>\n    .dataframe tbody tr th:only-of-type {\n        vertical-align: middle;\n    }\n\n    .dataframe tbody tr th {\n        vertical-align: top;\n    }\n\n    .dataframe thead th {\n        text-align: right;\n    }\n</style>\n<table border=\"1\" class=\"dataframe\">\n  <thead>\n    <tr style=\"text-align: right;\">\n      <th></th>\n      <th>product_id</th>\n      <th>customer_id</th>\n      <th>transaction_date</th>\n      <th>online_order</th>\n      <th>order_status</th>\n      <th>brand</th>\n      <th>product_line</th>\n      <th>product_class</th>\n      <th>product_size</th>\n      <th>list_price</th>\n      <th>standard_cost</th>\n      <th>product_first_sold_date</th>\n    </tr>\n    <tr>\n      <th>transaction_id</th>\n      <th></th>\n      <th></th>\n      <th></th>\n      <th></th>\n      <th></th>\n      <th></th>\n      <th></th>\n      <th></th>\n      <th></th>\n      <th></th>\n      <th></th>\n      <th></th>\n    </tr>\n  </thead>\n  <tbody>\n    <tr>\n      <th>14486</th>\n      <td>23</td>\n      <td>1</td>\n      <td>2017-03-27</td>\n      <td>0.0</td>\n      <td>Approved</td>\n      <td>Norco Bicycles</td>\n      <td>Mountain</td>\n      <td>low</td>\n      <td>small</td>\n      <td>688.63</td>\n      <td>612.88</td>\n      <td>33455.0</td>\n    </tr>\n    <tr>\n      <th>18970</th>\n      <td>11</td>\n      <td>1</td>\n      <td>2017-03-29</td>\n      <td>1.0</td>\n      <td>Approved</td>\n      <td>Giant Bicycles</td>\n      <td>Standard</td>\n      <td>high</td>\n      <td>medium</td>\n      <td>1274.93</td>\n      <td>764.96</td>\n      <td>35378.0</td>\n    </tr>\n    <tr>\n      <th>16423</th>\n      <td>9</td>\n      <td>1</td>\n      <td>2017-12-09</td>\n      <td>1.0</td>\n      <td>Approved</td>\n      <td>OHM Cycles</td>\n      <td>Road</td>\n      <td>medium</td>\n      <td>medium</td>\n      <td>742.54</td>\n      <td>667.40</td>\n      <td>37838.0</td>\n    </tr>\n    <tr>\n      <th>5157</th>\n      <td>47</td>\n      <td>1</td>\n      <td>2017-05-11</td>\n      <td>1.0</td>\n      <td>Approved</td>\n      <td>Trek Bicycles</td>\n      <td>Road</td>\n      <td>low</td>\n      <td>small</td>\n      <td>1720.70</td>\n      <td>1531.42</td>\n      <td>37823.0</td>\n    </tr>\n    <tr>\n      <th>13424</th>\n      <td>2</td>\n      <td>1</td>\n      <td>2017-02-21</td>\n      <td>0.0</td>\n      <td>Approved</td>\n      <td>Solex</td>\n      <td>Standard</td>\n      <td>medium</td>\n      <td>medium</td>\n      <td>71.49</td>\n      <td>53.62</td>\n      <td>38573.0</td>\n    </tr>\n  </tbody>\n</table>\n</div>"
     },
     "execution_count": 14,
     "metadata": {},
     "output_type": "execute_result"
    }
   ],
   "source": [
    "transactions = pd.read_excel(\"../Shared/KPMGfinal.xlsx\", sheet_name='Transactions', index_col=0)\n",
    "transactions = transactions.sort_values('customer_id')\n",
    "transactions.head()"
   ],
   "metadata": {
    "collapsed": false,
    "pycharm": {
     "name": "#%%\n"
    }
   }
  },
  {
   "cell_type": "code",
   "execution_count": 15,
   "outputs": [
    {
     "data": {
      "text/plain": "product_id                   0\ncustomer_id                  0\ntransaction_date             0\nonline_order               360\norder_status                 0\nbrand                      197\nproduct_line               197\nproduct_class              197\nproduct_size               197\nlist_price                   0\nstandard_cost              197\nproduct_first_sold_date    197\ndtype: int64"
     },
     "execution_count": 15,
     "metadata": {},
     "output_type": "execute_result"
    }
   ],
   "source": [
    "transactions.isna().sum()"
   ],
   "metadata": {
    "collapsed": false,
    "pycharm": {
     "name": "#%%\n"
    }
   }
  },
  {
   "cell_type": "code",
   "execution_count": 16,
   "outputs": [
    {
     "data": {
      "text/plain": "0"
     },
     "execution_count": 16,
     "metadata": {},
     "output_type": "execute_result"
    }
   ],
   "source": [
    "transactions.duplicated().sum()"
   ],
   "metadata": {
    "collapsed": false,
    "pycharm": {
     "name": "#%%\n"
    }
   }
  },
  {
   "cell_type": "code",
   "execution_count": 17,
   "outputs": [
    {
     "name": "stdout",
     "output_type": "stream",
     "text": [
      "<class 'pandas.core.frame.DataFrame'>\n",
      "Index: 20000 entries, 14486 to 17469\n",
      "Data columns (total 12 columns):\n",
      " #   Column                   Non-Null Count  Dtype         \n",
      "---  ------                   --------------  -----         \n",
      " 0   product_id               20000 non-null  int64         \n",
      " 1   customer_id              20000 non-null  int64         \n",
      " 2   transaction_date         20000 non-null  datetime64[ns]\n",
      " 3   online_order             19640 non-null  float64       \n",
      " 4   order_status             20000 non-null  object        \n",
      " 5   brand                    19803 non-null  object        \n",
      " 6   product_line             19803 non-null  object        \n",
      " 7   product_class            19803 non-null  object        \n",
      " 8   product_size             19803 non-null  object        \n",
      " 9   list_price               20000 non-null  float64       \n",
      " 10  standard_cost            19803 non-null  float64       \n",
      " 11  product_first_sold_date  19803 non-null  float64       \n",
      "dtypes: datetime64[ns](1), float64(4), int64(2), object(5)\n",
      "memory usage: 2.0+ MB\n"
     ]
    }
   ],
   "source": [
    "transactions.info()"
   ],
   "metadata": {
    "collapsed": false,
    "pycharm": {
     "name": "#%%\n"
    }
   }
  },
  {
   "cell_type": "code",
   "execution_count": 18,
   "outputs": [
    {
     "data": {
      "text/plain": "                product_id  customer_id transaction_date  online_order   \ntransaction_id                                                           \n14486                   23            1       2017-03-27           0.0  \\\n18970                   11            1       2017-03-29           1.0   \n16423                    9            1       2017-12-09           1.0   \n5157                    47            1       2017-05-11           1.0   \n13424                    2            1       2017-02-21           0.0   \n\n               order_status           brand product_line product_class   \ntransaction_id                                                           \n14486              Approved  Norco Bicycles     Mountain           low  \\\n18970              Approved  Giant Bicycles     Standard          high   \n16423              Approved      OHM Cycles         Road        medium   \n5157               Approved   Trek Bicycles         Road           low   \n13424              Approved           Solex     Standard        medium   \n\n               product_size  list_price  standard_cost product_first_sold_date  \ntransaction_id                                                                  \n14486                 small      688.63         612.88              1991-08-07  \n18970                medium     1274.93         764.96              1996-11-11  \n16423                medium      742.54         667.40              2003-08-07  \n5157                  small     1720.70        1531.42              2003-07-23  \n13424                medium       71.49          53.62              2005-08-11  ",
      "text/html": "<div>\n<style scoped>\n    .dataframe tbody tr th:only-of-type {\n        vertical-align: middle;\n    }\n\n    .dataframe tbody tr th {\n        vertical-align: top;\n    }\n\n    .dataframe thead th {\n        text-align: right;\n    }\n</style>\n<table border=\"1\" class=\"dataframe\">\n  <thead>\n    <tr style=\"text-align: right;\">\n      <th></th>\n      <th>product_id</th>\n      <th>customer_id</th>\n      <th>transaction_date</th>\n      <th>online_order</th>\n      <th>order_status</th>\n      <th>brand</th>\n      <th>product_line</th>\n      <th>product_class</th>\n      <th>product_size</th>\n      <th>list_price</th>\n      <th>standard_cost</th>\n      <th>product_first_sold_date</th>\n    </tr>\n    <tr>\n      <th>transaction_id</th>\n      <th></th>\n      <th></th>\n      <th></th>\n      <th></th>\n      <th></th>\n      <th></th>\n      <th></th>\n      <th></th>\n      <th></th>\n      <th></th>\n      <th></th>\n      <th></th>\n    </tr>\n  </thead>\n  <tbody>\n    <tr>\n      <th>14486</th>\n      <td>23</td>\n      <td>1</td>\n      <td>2017-03-27</td>\n      <td>0.0</td>\n      <td>Approved</td>\n      <td>Norco Bicycles</td>\n      <td>Mountain</td>\n      <td>low</td>\n      <td>small</td>\n      <td>688.63</td>\n      <td>612.88</td>\n      <td>1991-08-07</td>\n    </tr>\n    <tr>\n      <th>18970</th>\n      <td>11</td>\n      <td>1</td>\n      <td>2017-03-29</td>\n      <td>1.0</td>\n      <td>Approved</td>\n      <td>Giant Bicycles</td>\n      <td>Standard</td>\n      <td>high</td>\n      <td>medium</td>\n      <td>1274.93</td>\n      <td>764.96</td>\n      <td>1996-11-11</td>\n    </tr>\n    <tr>\n      <th>16423</th>\n      <td>9</td>\n      <td>1</td>\n      <td>2017-12-09</td>\n      <td>1.0</td>\n      <td>Approved</td>\n      <td>OHM Cycles</td>\n      <td>Road</td>\n      <td>medium</td>\n      <td>medium</td>\n      <td>742.54</td>\n      <td>667.40</td>\n      <td>2003-08-07</td>\n    </tr>\n    <tr>\n      <th>5157</th>\n      <td>47</td>\n      <td>1</td>\n      <td>2017-05-11</td>\n      <td>1.0</td>\n      <td>Approved</td>\n      <td>Trek Bicycles</td>\n      <td>Road</td>\n      <td>low</td>\n      <td>small</td>\n      <td>1720.70</td>\n      <td>1531.42</td>\n      <td>2003-07-23</td>\n    </tr>\n    <tr>\n      <th>13424</th>\n      <td>2</td>\n      <td>1</td>\n      <td>2017-02-21</td>\n      <td>0.0</td>\n      <td>Approved</td>\n      <td>Solex</td>\n      <td>Standard</td>\n      <td>medium</td>\n      <td>medium</td>\n      <td>71.49</td>\n      <td>53.62</td>\n      <td>2005-08-11</td>\n    </tr>\n  </tbody>\n</table>\n</div>"
     },
     "execution_count": 18,
     "metadata": {},
     "output_type": "execute_result"
    }
   ],
   "source": [
    "transactions['product_first_sold_date'] = pd.TimedeltaIndex(transactions['product_first_sold_date'], unit='D') + dt.datetime(1900, 1, 1)\n",
    "transactions.head()"
   ],
   "metadata": {
    "collapsed": false,
    "pycharm": {
     "name": "#%%\n"
    }
   }
  },
  {
   "cell_type": "code",
   "execution_count": 19,
   "outputs": [
    {
     "name": "stdout",
     "output_type": "stream",
     "text": [
      "<class 'pandas.core.frame.DataFrame'>\n",
      "Index: 20000 entries, 14486 to 17469\n",
      "Data columns (total 12 columns):\n",
      " #   Column                   Non-Null Count  Dtype         \n",
      "---  ------                   --------------  -----         \n",
      " 0   product_id               20000 non-null  int64         \n",
      " 1   customer_id              20000 non-null  int64         \n",
      " 2   transaction_date         20000 non-null  datetime64[ns]\n",
      " 3   online_order             19640 non-null  float64       \n",
      " 4   order_status             20000 non-null  object        \n",
      " 5   brand                    19803 non-null  object        \n",
      " 6   product_line             19803 non-null  object        \n",
      " 7   product_class            19803 non-null  object        \n",
      " 8   product_size             19803 non-null  object        \n",
      " 9   list_price               20000 non-null  float64       \n",
      " 10  standard_cost            19803 non-null  float64       \n",
      " 11  product_first_sold_date  19803 non-null  datetime64[ns]\n",
      "dtypes: datetime64[ns](2), float64(3), int64(2), object(5)\n",
      "memory usage: 2.0+ MB\n"
     ]
    }
   ],
   "source": [
    "transactions.info()"
   ],
   "metadata": {
    "collapsed": false,
    "pycharm": {
     "name": "#%%\n"
    }
   }
  },
  {
   "cell_type": "code",
   "execution_count": 20,
   "outputs": [
    {
     "data": {
      "text/plain": "(20000, 12)"
     },
     "execution_count": 20,
     "metadata": {},
     "output_type": "execute_result"
    }
   ],
   "source": [
    "transactions.shape"
   ],
   "metadata": {
    "collapsed": false,
    "pycharm": {
     "name": "#%%\n"
    }
   }
  },
  {
   "cell_type": "code",
   "execution_count": 21,
   "outputs": [
    {
     "data": {
      "text/plain": "(19445, 12)"
     },
     "execution_count": 21,
     "metadata": {},
     "output_type": "execute_result"
    }
   ],
   "source": [
    "transactions_clean = transactions.dropna()\n",
    "transactions_clean.shape"
   ],
   "metadata": {
    "collapsed": false,
    "pycharm": {
     "name": "#%%\n"
    }
   }
  },
  {
   "cell_type": "code",
   "execution_count": 23,
   "outputs": [
    {
     "data": {
      "text/plain": "count                            19445\nmean     2017-07-01 16:21:18.189766144\nmin                2017-01-01 00:00:00\n25%                2017-04-01 00:00:00\n50%                2017-07-03 00:00:00\n75%                2017-10-02 00:00:00\nmax                2017-12-30 00:00:00\nName: transaction_date, dtype: object"
     },
     "execution_count": 23,
     "metadata": {},
     "output_type": "execute_result"
    }
   ],
   "source": [
    "from pandas.core.generic import NDFrame\n",
    "transactions_clean['transaction_date'].describe(include=[np.datetime64])"
   ],
   "metadata": {
    "collapsed": false,
    "pycharm": {
     "name": "#%%\n"
    }
   }
  },
  {
   "cell_type": "code",
   "execution_count": 24,
   "outputs": [
    {
     "name": "stderr",
     "output_type": "stream",
     "text": [
      "/var/folders/02/jwkk2z4x0wv1vqp9p47gjgdw0000gn/T/ipykernel_38768/3593025375.py:2: SettingWithCopyWarning: \n",
      "A value is trying to be set on a copy of a slice from a DataFrame.\n",
      "Try using .loc[row_indexer,col_indexer] = value instead\n",
      "\n",
      "See the caveats in the documentation: https://pandas.pydata.org/pandas-docs/stable/user_guide/indexing.html#returning-a-view-versus-a-copy\n",
      "  transactions_clean['last_purchase_days_ago'] = most_recent_purchase - transactions_clean['transaction_date']\n",
      "/var/folders/02/jwkk2z4x0wv1vqp9p47gjgdw0000gn/T/ipykernel_38768/3593025375.py:3: SettingWithCopyWarning: \n",
      "A value is trying to be set on a copy of a slice from a DataFrame.\n",
      "Try using .loc[row_indexer,col_indexer] = value instead\n",
      "\n",
      "See the caveats in the documentation: https://pandas.pydata.org/pandas-docs/stable/user_guide/indexing.html#returning-a-view-versus-a-copy\n",
      "  transactions_clean['last_purchase_days_ago'] /= np.timedelta64(1, 'D')\n",
      "/var/folders/02/jwkk2z4x0wv1vqp9p47gjgdw0000gn/T/ipykernel_38768/3593025375.py:4: SettingWithCopyWarning: \n",
      "A value is trying to be set on a copy of a slice from a DataFrame.\n",
      "Try using .loc[row_indexer,col_indexer] = value instead\n",
      "\n",
      "See the caveats in the documentation: https://pandas.pydata.org/pandas-docs/stable/user_guide/indexing.html#returning-a-view-versus-a-copy\n",
      "  transactions_clean['profit'] = transactions_clean['list_price'] - transactions_clean['standard_cost']\n"
     ]
    },
    {
     "data": {
      "text/plain": "                product_id  customer_id transaction_date  online_order   \ntransaction_id                                                           \n14486                   23            1       2017-03-27           0.0  \\\n18970                   11            1       2017-03-29           1.0   \n16423                    9            1       2017-12-09           1.0   \n5157                    47            1       2017-05-11           1.0   \n13424                    2            1       2017-02-21           0.0   \n\n               order_status           brand product_line product_class   \ntransaction_id                                                           \n14486              Approved  Norco Bicycles     Mountain           low  \\\n18970              Approved  Giant Bicycles     Standard          high   \n16423              Approved      OHM Cycles         Road        medium   \n5157               Approved   Trek Bicycles         Road           low   \n13424              Approved           Solex     Standard        medium   \n\n               product_size  list_price  standard_cost   \ntransaction_id                                           \n14486                 small      688.63         612.88  \\\n18970                medium     1274.93         764.96   \n16423                medium      742.54         667.40   \n5157                  small     1720.70        1531.42   \n13424                medium       71.49          53.62   \n\n               product_first_sold_date  last_purchase_days_ago  profit  \ntransaction_id                                                          \n14486                       1991-08-07                   278.0   75.75  \n18970                       1996-11-11                   276.0  509.97  \n16423                       2003-08-07                    21.0   75.14  \n5157                        2003-07-23                   233.0  189.28  \n13424                       2005-08-11                   312.0   17.87  ",
      "text/html": "<div>\n<style scoped>\n    .dataframe tbody tr th:only-of-type {\n        vertical-align: middle;\n    }\n\n    .dataframe tbody tr th {\n        vertical-align: top;\n    }\n\n    .dataframe thead th {\n        text-align: right;\n    }\n</style>\n<table border=\"1\" class=\"dataframe\">\n  <thead>\n    <tr style=\"text-align: right;\">\n      <th></th>\n      <th>product_id</th>\n      <th>customer_id</th>\n      <th>transaction_date</th>\n      <th>online_order</th>\n      <th>order_status</th>\n      <th>brand</th>\n      <th>product_line</th>\n      <th>product_class</th>\n      <th>product_size</th>\n      <th>list_price</th>\n      <th>standard_cost</th>\n      <th>product_first_sold_date</th>\n      <th>last_purchase_days_ago</th>\n      <th>profit</th>\n    </tr>\n    <tr>\n      <th>transaction_id</th>\n      <th></th>\n      <th></th>\n      <th></th>\n      <th></th>\n      <th></th>\n      <th></th>\n      <th></th>\n      <th></th>\n      <th></th>\n      <th></th>\n      <th></th>\n      <th></th>\n      <th></th>\n      <th></th>\n    </tr>\n  </thead>\n  <tbody>\n    <tr>\n      <th>14486</th>\n      <td>23</td>\n      <td>1</td>\n      <td>2017-03-27</td>\n      <td>0.0</td>\n      <td>Approved</td>\n      <td>Norco Bicycles</td>\n      <td>Mountain</td>\n      <td>low</td>\n      <td>small</td>\n      <td>688.63</td>\n      <td>612.88</td>\n      <td>1991-08-07</td>\n      <td>278.0</td>\n      <td>75.75</td>\n    </tr>\n    <tr>\n      <th>18970</th>\n      <td>11</td>\n      <td>1</td>\n      <td>2017-03-29</td>\n      <td>1.0</td>\n      <td>Approved</td>\n      <td>Giant Bicycles</td>\n      <td>Standard</td>\n      <td>high</td>\n      <td>medium</td>\n      <td>1274.93</td>\n      <td>764.96</td>\n      <td>1996-11-11</td>\n      <td>276.0</td>\n      <td>509.97</td>\n    </tr>\n    <tr>\n      <th>16423</th>\n      <td>9</td>\n      <td>1</td>\n      <td>2017-12-09</td>\n      <td>1.0</td>\n      <td>Approved</td>\n      <td>OHM Cycles</td>\n      <td>Road</td>\n      <td>medium</td>\n      <td>medium</td>\n      <td>742.54</td>\n      <td>667.40</td>\n      <td>2003-08-07</td>\n      <td>21.0</td>\n      <td>75.14</td>\n    </tr>\n    <tr>\n      <th>5157</th>\n      <td>47</td>\n      <td>1</td>\n      <td>2017-05-11</td>\n      <td>1.0</td>\n      <td>Approved</td>\n      <td>Trek Bicycles</td>\n      <td>Road</td>\n      <td>low</td>\n      <td>small</td>\n      <td>1720.70</td>\n      <td>1531.42</td>\n      <td>2003-07-23</td>\n      <td>233.0</td>\n      <td>189.28</td>\n    </tr>\n    <tr>\n      <th>13424</th>\n      <td>2</td>\n      <td>1</td>\n      <td>2017-02-21</td>\n      <td>0.0</td>\n      <td>Approved</td>\n      <td>Solex</td>\n      <td>Standard</td>\n      <td>medium</td>\n      <td>medium</td>\n      <td>71.49</td>\n      <td>53.62</td>\n      <td>2005-08-11</td>\n      <td>312.0</td>\n      <td>17.87</td>\n    </tr>\n  </tbody>\n</table>\n</div>"
     },
     "execution_count": 24,
     "metadata": {},
     "output_type": "execute_result"
    }
   ],
   "source": [
    "most_recent_purchase = transactions_clean['transaction_date'].max()\n",
    "transactions_clean['last_purchase_days_ago'] = most_recent_purchase - transactions_clean['transaction_date']\n",
    "transactions_clean['last_purchase_days_ago'] /= np.timedelta64(1, 'D')\n",
    "transactions_clean['profit'] = transactions_clean['list_price'] - transactions_clean['standard_cost']\n",
    "transactions_clean.head()"
   ],
   "metadata": {
    "collapsed": false,
    "pycharm": {
     "name": "#%%\n"
    }
   }
  },
  {
   "cell_type": "code",
   "execution_count": 25,
   "outputs": [],
   "source": [
    "rfmTable = transactions_clean.groupby('customer_id').agg({\n",
    "    'last_purchase_days_ago': lambda x: x.min(),\n",
    "    'customer_id': lambda x: len(x),\n",
    "    'profit': lambda x: x.sum()\n",
    "})\n",
    "\n",
    "rfmTable.rename(columns={\n",
    "    'last_purchase_days_ago': 'recency',\n",
    "    'customer_id': 'frequency',\n",
    "    'profit': 'monetary_value'\n",
    "    }, inplace=True\n",
    ")"
   ],
   "metadata": {
    "collapsed": false,
    "pycharm": {
     "name": "#%%\n"
    }
   }
  },
  {
   "cell_type": "code",
   "execution_count": 26,
   "outputs": [
    {
     "data": {
      "text/plain": "             recency  frequency  monetary_value\ncustomer_id                                    \n1                7.0         11         3018.09\n2              128.0          3         2226.26\n3              102.0          7         3290.21\n4              195.0          2          220.57\n5               16.0          6         2394.94",
      "text/html": "<div>\n<style scoped>\n    .dataframe tbody tr th:only-of-type {\n        vertical-align: middle;\n    }\n\n    .dataframe tbody tr th {\n        vertical-align: top;\n    }\n\n    .dataframe thead th {\n        text-align: right;\n    }\n</style>\n<table border=\"1\" class=\"dataframe\">\n  <thead>\n    <tr style=\"text-align: right;\">\n      <th></th>\n      <th>recency</th>\n      <th>frequency</th>\n      <th>monetary_value</th>\n    </tr>\n    <tr>\n      <th>customer_id</th>\n      <th></th>\n      <th></th>\n      <th></th>\n    </tr>\n  </thead>\n  <tbody>\n    <tr>\n      <th>1</th>\n      <td>7.0</td>\n      <td>11</td>\n      <td>3018.09</td>\n    </tr>\n    <tr>\n      <th>2</th>\n      <td>128.0</td>\n      <td>3</td>\n      <td>2226.26</td>\n    </tr>\n    <tr>\n      <th>3</th>\n      <td>102.0</td>\n      <td>7</td>\n      <td>3290.21</td>\n    </tr>\n    <tr>\n      <th>4</th>\n      <td>195.0</td>\n      <td>2</td>\n      <td>220.57</td>\n    </tr>\n    <tr>\n      <th>5</th>\n      <td>16.0</td>\n      <td>6</td>\n      <td>2394.94</td>\n    </tr>\n  </tbody>\n</table>\n</div>"
     },
     "execution_count": 26,
     "metadata": {},
     "output_type": "execute_result"
    }
   ],
   "source": [
    "rfmTable.head()"
   ],
   "metadata": {
    "collapsed": false,
    "pycharm": {
     "name": "#%%\n"
    }
   }
  },
  {
   "cell_type": "code",
   "execution_count": 27,
   "outputs": [
    {
     "data": {
      "text/plain": "(3492, 3)"
     },
     "execution_count": 27,
     "metadata": {},
     "output_type": "execute_result"
    }
   ],
   "source": [
    "rfmTable.shape"
   ],
   "metadata": {
    "collapsed": false,
    "pycharm": {
     "name": "#%%\n"
    }
   }
  },
  {
   "cell_type": "code",
   "execution_count": 28,
   "outputs": [
    {
     "data": {
      "text/plain": "      recency  frequency  monetary_value\n0.25     18.0        4.0         1797.43\n0.50     45.0        5.0         2798.99\n0.75     88.0        7.0         4122.44",
      "text/html": "<div>\n<style scoped>\n    .dataframe tbody tr th:only-of-type {\n        vertical-align: middle;\n    }\n\n    .dataframe tbody tr th {\n        vertical-align: top;\n    }\n\n    .dataframe thead th {\n        text-align: right;\n    }\n</style>\n<table border=\"1\" class=\"dataframe\">\n  <thead>\n    <tr style=\"text-align: right;\">\n      <th></th>\n      <th>recency</th>\n      <th>frequency</th>\n      <th>monetary_value</th>\n    </tr>\n  </thead>\n  <tbody>\n    <tr>\n      <th>0.25</th>\n      <td>18.0</td>\n      <td>4.0</td>\n      <td>1797.43</td>\n    </tr>\n    <tr>\n      <th>0.50</th>\n      <td>45.0</td>\n      <td>5.0</td>\n      <td>2798.99</td>\n    </tr>\n    <tr>\n      <th>0.75</th>\n      <td>88.0</td>\n      <td>7.0</td>\n      <td>4122.44</td>\n    </tr>\n  </tbody>\n</table>\n</div>"
     },
     "execution_count": 28,
     "metadata": {},
     "output_type": "execute_result"
    }
   ],
   "source": [
    "quartiles = rfmTable.quantile(q=[0.25,0.50,0.75])\n",
    "quartiles"
   ],
   "metadata": {
    "collapsed": false,
    "pycharm": {
     "name": "#%%\n"
    }
   }
  },
  {
   "cell_type": "code",
   "execution_count": 29,
   "outputs": [],
   "source": [
    "def ROneHotEncoder(x, p, d):\n",
    "    if x <= d[p][0.25]:\n",
    "        return 1\n",
    "    elif x <= d[p][0.5]:\n",
    "        return 2\n",
    "    elif x <= d[p][0.75]:\n",
    "        return 3\n",
    "    else:\n",
    "        return 4\n",
    "\n",
    "def FMOneHotEncoder(x, p, d):\n",
    "    if x <= d[p][0.25]:\n",
    "        return 4\n",
    "    elif x <= d[p][0.5]:\n",
    "        return 2\n",
    "    elif x <= d[p][0.75]:\n",
    "        return 3\n",
    "    else:\n",
    "        return 1"
   ],
   "metadata": {
    "collapsed": false,
    "pycharm": {
     "name": "#%%\n"
    }
   }
  },
  {
   "cell_type": "code",
   "execution_count": 30,
   "outputs": [
    {
     "data": {
      "text/plain": "             recency  frequency  monetary_value  r_score  f_score  m_score\ncustomer_id                                                               \n1                7.0         11         3018.09        1        1        3\n2              128.0          3         2226.26        4        4        2\n3              102.0          7         3290.21        4        3        3\n4              195.0          2          220.57        4        4        4\n5               16.0          6         2394.94        1        3        2",
      "text/html": "<div>\n<style scoped>\n    .dataframe tbody tr th:only-of-type {\n        vertical-align: middle;\n    }\n\n    .dataframe tbody tr th {\n        vertical-align: top;\n    }\n\n    .dataframe thead th {\n        text-align: right;\n    }\n</style>\n<table border=\"1\" class=\"dataframe\">\n  <thead>\n    <tr style=\"text-align: right;\">\n      <th></th>\n      <th>recency</th>\n      <th>frequency</th>\n      <th>monetary_value</th>\n      <th>r_score</th>\n      <th>f_score</th>\n      <th>m_score</th>\n    </tr>\n    <tr>\n      <th>customer_id</th>\n      <th></th>\n      <th></th>\n      <th></th>\n      <th></th>\n      <th></th>\n      <th></th>\n    </tr>\n  </thead>\n  <tbody>\n    <tr>\n      <th>1</th>\n      <td>7.0</td>\n      <td>11</td>\n      <td>3018.09</td>\n      <td>1</td>\n      <td>1</td>\n      <td>3</td>\n    </tr>\n    <tr>\n      <th>2</th>\n      <td>128.0</td>\n      <td>3</td>\n      <td>2226.26</td>\n      <td>4</td>\n      <td>4</td>\n      <td>2</td>\n    </tr>\n    <tr>\n      <th>3</th>\n      <td>102.0</td>\n      <td>7</td>\n      <td>3290.21</td>\n      <td>4</td>\n      <td>3</td>\n      <td>3</td>\n    </tr>\n    <tr>\n      <th>4</th>\n      <td>195.0</td>\n      <td>2</td>\n      <td>220.57</td>\n      <td>4</td>\n      <td>4</td>\n      <td>4</td>\n    </tr>\n    <tr>\n      <th>5</th>\n      <td>16.0</td>\n      <td>6</td>\n      <td>2394.94</td>\n      <td>1</td>\n      <td>3</td>\n      <td>2</td>\n    </tr>\n  </tbody>\n</table>\n</div>"
     },
     "execution_count": 30,
     "metadata": {},
     "output_type": "execute_result"
    }
   ],
   "source": [
    "rfmSeg = rfmTable\n",
    "rfmSeg['r_score'] = rfmSeg['recency'].apply(ROneHotEncoder, args=('recency', quartiles))\n",
    "rfmSeg['f_score'] = rfmSeg['frequency'].apply(FMOneHotEncoder, args=('frequency', quartiles))\n",
    "rfmSeg['m_score'] = rfmSeg['monetary_value'].apply(FMOneHotEncoder, args=('monetary_value', quartiles))\n",
    "rfmSeg.head()"
   ],
   "metadata": {
    "collapsed": false,
    "pycharm": {
     "name": "#%%\n"
    }
   }
  },
  {
   "cell_type": "code",
   "execution_count": 31,
   "outputs": [
    {
     "data": {
      "text/plain": "             recency  frequency  monetary_value  r_score  f_score  m_score   \ncustomer_id                                                                  \n1                7.0         11         3018.09        1        1        3  \\\n2              128.0          3         2226.26        4        4        2   \n3              102.0          7         3290.21        4        3        3   \n4              195.0          2          220.57        4        4        4   \n5               16.0          6         2394.94        1        3        2   \n\n             rfm_class  total_score  \ncustomer_id                          \n1                  113            5  \n2                  442           10  \n3                  433           10  \n4                  444           12  \n5                  132            6  ",
      "text/html": "<div>\n<style scoped>\n    .dataframe tbody tr th:only-of-type {\n        vertical-align: middle;\n    }\n\n    .dataframe tbody tr th {\n        vertical-align: top;\n    }\n\n    .dataframe thead th {\n        text-align: right;\n    }\n</style>\n<table border=\"1\" class=\"dataframe\">\n  <thead>\n    <tr style=\"text-align: right;\">\n      <th></th>\n      <th>recency</th>\n      <th>frequency</th>\n      <th>monetary_value</th>\n      <th>r_score</th>\n      <th>f_score</th>\n      <th>m_score</th>\n      <th>rfm_class</th>\n      <th>total_score</th>\n    </tr>\n    <tr>\n      <th>customer_id</th>\n      <th></th>\n      <th></th>\n      <th></th>\n      <th></th>\n      <th></th>\n      <th></th>\n      <th></th>\n      <th></th>\n    </tr>\n  </thead>\n  <tbody>\n    <tr>\n      <th>1</th>\n      <td>7.0</td>\n      <td>11</td>\n      <td>3018.09</td>\n      <td>1</td>\n      <td>1</td>\n      <td>3</td>\n      <td>113</td>\n      <td>5</td>\n    </tr>\n    <tr>\n      <th>2</th>\n      <td>128.0</td>\n      <td>3</td>\n      <td>2226.26</td>\n      <td>4</td>\n      <td>4</td>\n      <td>2</td>\n      <td>442</td>\n      <td>10</td>\n    </tr>\n    <tr>\n      <th>3</th>\n      <td>102.0</td>\n      <td>7</td>\n      <td>3290.21</td>\n      <td>4</td>\n      <td>3</td>\n      <td>3</td>\n      <td>433</td>\n      <td>10</td>\n    </tr>\n    <tr>\n      <th>4</th>\n      <td>195.0</td>\n      <td>2</td>\n      <td>220.57</td>\n      <td>4</td>\n      <td>4</td>\n      <td>4</td>\n      <td>444</td>\n      <td>12</td>\n    </tr>\n    <tr>\n      <th>5</th>\n      <td>16.0</td>\n      <td>6</td>\n      <td>2394.94</td>\n      <td>1</td>\n      <td>3</td>\n      <td>2</td>\n      <td>132</td>\n      <td>6</td>\n    </tr>\n  </tbody>\n</table>\n</div>"
     },
     "execution_count": 31,
     "metadata": {},
     "output_type": "execute_result"
    }
   ],
   "source": [
    "rfmSeg['rfm_class'] = 100 * rfmSeg['r_score'] + 10 * rfmSeg['f_score'] + rfmSeg['m_score']\n",
    "rfmSeg['total_score'] = rfmSeg['r_score'] + rfmSeg['f_score'] + rfmSeg['m_score']\n",
    "rfmSeg.head()"
   ],
   "metadata": {
    "collapsed": false,
    "pycharm": {
     "name": "#%%\n"
    }
   }
  },
  {
   "cell_type": "code",
   "execution_count": 32,
   "outputs": [
    {
     "data": {
      "text/plain": "(111, 144.0, 244.0, 344.0, 444)"
     },
     "execution_count": 32,
     "metadata": {},
     "output_type": "execute_result"
    }
   ],
   "source": [
    "rfm_quartiles = (rfmSeg['rfm_class'].min(), rfmSeg['rfm_class'].quantile(q=0.25),\n",
    "                 rfmSeg['rfm_class'].median(), rfmSeg['rfm_class'].quantile(q=0.75),\n",
    "                 rfmSeg['rfm_class'].max())\n",
    "rfm_quartiles"
   ],
   "metadata": {
    "collapsed": false,
    "pycharm": {
     "name": "#%%\n"
    }
   }
  },
  {
   "cell_type": "code",
   "execution_count": 33,
   "outputs": [
    {
     "data": {
      "text/plain": "             recency  frequency  monetary_value  r_score  f_score  m_score   \ncustomer_id                                                                  \n1                7.0         11     3018.090000        1        1        3  \\\n2              128.0          3     2226.260000        4        4        2   \n3              102.0          7     3290.210000        4        3        3   \n4              195.0          2      220.570000        4        4        4   \n5               16.0          6     2394.940000        1        3        2   \n...              ...        ...             ...      ...      ...      ...   \n3497            52.0          3     1648.320000        3        4        4   \n3498           127.0          6     3147.330000        4        3        3   \n3499            51.0          7     4955.250000        3        3        1   \n3500           144.0          6     1785.860000        4        3        4   \n5034            84.0          3      269.484972        3        4        4   \n\n             rfm_class  total_score customer_title  \ncustomer_id                                         \n1                  113            5         silver  \n2                  442           10          basic  \n3                  433           10          basic  \n4                  444           12          basic  \n5                  132            6         silver  \n...                ...          ...            ...  \n3497               344           11          basic  \n3498               433           10          basic  \n3499               331            7          basic  \n3500               434           11          basic  \n5034               344           11          basic  \n\n[3492 rows x 9 columns]",
      "text/html": "<div>\n<style scoped>\n    .dataframe tbody tr th:only-of-type {\n        vertical-align: middle;\n    }\n\n    .dataframe tbody tr th {\n        vertical-align: top;\n    }\n\n    .dataframe thead th {\n        text-align: right;\n    }\n</style>\n<table border=\"1\" class=\"dataframe\">\n  <thead>\n    <tr style=\"text-align: right;\">\n      <th></th>\n      <th>recency</th>\n      <th>frequency</th>\n      <th>monetary_value</th>\n      <th>r_score</th>\n      <th>f_score</th>\n      <th>m_score</th>\n      <th>rfm_class</th>\n      <th>total_score</th>\n      <th>customer_title</th>\n    </tr>\n    <tr>\n      <th>customer_id</th>\n      <th></th>\n      <th></th>\n      <th></th>\n      <th></th>\n      <th></th>\n      <th></th>\n      <th></th>\n      <th></th>\n      <th></th>\n    </tr>\n  </thead>\n  <tbody>\n    <tr>\n      <th>1</th>\n      <td>7.0</td>\n      <td>11</td>\n      <td>3018.090000</td>\n      <td>1</td>\n      <td>1</td>\n      <td>3</td>\n      <td>113</td>\n      <td>5</td>\n      <td>silver</td>\n    </tr>\n    <tr>\n      <th>2</th>\n      <td>128.0</td>\n      <td>3</td>\n      <td>2226.260000</td>\n      <td>4</td>\n      <td>4</td>\n      <td>2</td>\n      <td>442</td>\n      <td>10</td>\n      <td>basic</td>\n    </tr>\n    <tr>\n      <th>3</th>\n      <td>102.0</td>\n      <td>7</td>\n      <td>3290.210000</td>\n      <td>4</td>\n      <td>3</td>\n      <td>3</td>\n      <td>433</td>\n      <td>10</td>\n      <td>basic</td>\n    </tr>\n    <tr>\n      <th>4</th>\n      <td>195.0</td>\n      <td>2</td>\n      <td>220.570000</td>\n      <td>4</td>\n      <td>4</td>\n      <td>4</td>\n      <td>444</td>\n      <td>12</td>\n      <td>basic</td>\n    </tr>\n    <tr>\n      <th>5</th>\n      <td>16.0</td>\n      <td>6</td>\n      <td>2394.940000</td>\n      <td>1</td>\n      <td>3</td>\n      <td>2</td>\n      <td>132</td>\n      <td>6</td>\n      <td>silver</td>\n    </tr>\n    <tr>\n      <th>...</th>\n      <td>...</td>\n      <td>...</td>\n      <td>...</td>\n      <td>...</td>\n      <td>...</td>\n      <td>...</td>\n      <td>...</td>\n      <td>...</td>\n      <td>...</td>\n    </tr>\n    <tr>\n      <th>3497</th>\n      <td>52.0</td>\n      <td>3</td>\n      <td>1648.320000</td>\n      <td>3</td>\n      <td>4</td>\n      <td>4</td>\n      <td>344</td>\n      <td>11</td>\n      <td>basic</td>\n    </tr>\n    <tr>\n      <th>3498</th>\n      <td>127.0</td>\n      <td>6</td>\n      <td>3147.330000</td>\n      <td>4</td>\n      <td>3</td>\n      <td>3</td>\n      <td>433</td>\n      <td>10</td>\n      <td>basic</td>\n    </tr>\n    <tr>\n      <th>3499</th>\n      <td>51.0</td>\n      <td>7</td>\n      <td>4955.250000</td>\n      <td>3</td>\n      <td>3</td>\n      <td>1</td>\n      <td>331</td>\n      <td>7</td>\n      <td>basic</td>\n    </tr>\n    <tr>\n      <th>3500</th>\n      <td>144.0</td>\n      <td>6</td>\n      <td>1785.860000</td>\n      <td>4</td>\n      <td>3</td>\n      <td>4</td>\n      <td>434</td>\n      <td>11</td>\n      <td>basic</td>\n    </tr>\n    <tr>\n      <th>5034</th>\n      <td>84.0</td>\n      <td>3</td>\n      <td>269.484972</td>\n      <td>3</td>\n      <td>4</td>\n      <td>4</td>\n      <td>344</td>\n      <td>11</td>\n      <td>basic</td>\n    </tr>\n  </tbody>\n</table>\n<p>3492 rows × 9 columns</p>\n</div>"
     },
     "execution_count": 33,
     "metadata": {},
     "output_type": "execute_result"
    }
   ],
   "source": [
    "def RFMClassOneHotEncoder(x, p, d):\n",
    "    if x <= d[0]:\n",
    "        return 'gold'\n",
    "    elif x <= d[1]:\n",
    "        return 'silver'\n",
    "    elif x <= d[2]:\n",
    "        return 'bronze'\n",
    "    else:\n",
    "        return 'basic'\n",
    "\n",
    "rfmSeg['customer_title'] = rfmSeg['rfm_class'].apply(RFMClassOneHotEncoder, args=('rfm_class', rfm_quartiles))\n",
    "rfmSeg"
   ],
   "metadata": {
    "collapsed": false,
    "pycharm": {
     "name": "#%%\n"
    }
   }
  },
  {
   "cell_type": "code",
   "execution_count": 34,
   "outputs": [],
   "source": [
    "rfmSeg.to_excel(\"rfmSeg.xlsx\")\n",
    "transactions_clean.to_excel(\"transactions_clean.xlsx\")\n",
    "section3.to_excel(\"section3.xlsx\")"
   ],
   "metadata": {
    "collapsed": false,
    "pycharm": {
     "name": "#%%\n"
    }
   }
  },
  {
   "cell_type": "code",
   "execution_count": null,
   "outputs": [],
   "source": [],
   "metadata": {
    "collapsed": false,
    "pycharm": {
     "name": "#%%\n"
    }
   }
  },
  {
   "cell_type": "code",
   "execution_count": null,
   "outputs": [],
   "source": [],
   "metadata": {
    "collapsed": false,
    "pycharm": {
     "name": "#%%\n"
    }
   }
  },
  {
   "cell_type": "code",
   "execution_count": null,
   "outputs": [],
   "source": [],
   "metadata": {
    "collapsed": false,
    "pycharm": {
     "name": "#%%\n",
     "is_executing": true
    }
   }
  },
  {
   "cell_type": "code",
   "execution_count": null,
   "outputs": [],
   "source": [],
   "metadata": {
    "collapsed": false,
    "pycharm": {
     "name": "#%%\n"
    }
   }
  }
 ],
 "metadata": {
  "kernelspec": {
   "display_name": "Python 3",
   "language": "python",
   "name": "python3"
  },
  "language_info": {
   "codemirror_mode": {
    "name": "ipython",
    "version": 2
   },
   "file_extension": ".py",
   "mimetype": "text/x-python",
   "name": "python",
   "nbconvert_exporter": "python",
   "pygments_lexer": "ipython2",
   "version": "2.7.6"
  }
 },
 "nbformat": 4,
 "nbformat_minor": 0
}